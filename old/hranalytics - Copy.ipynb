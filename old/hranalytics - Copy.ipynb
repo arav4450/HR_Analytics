{
 "cells": [
  {
   "cell_type": "code",
   "execution_count": 45,
   "metadata": {},
   "outputs": [],
   "source": [
    "import numpy as np\n",
    "import pandas as pd\n",
    "import matplotlib.pyplot as plt\n",
    "from sklearn.linear_model import LogisticRegression\n",
    "from sklearn.model_selection import GridSearchCV\n",
    "from sklearn import metrics\n",
    "from sklearn.metrics import f1_score\n",
    "from sklearn.model_selection import train_test_split \n",
    "from sklearn.metrics import confusion_matrix\n",
    "from sklearn.svm import SVC\n",
    "import seaborn as sns\n",
    "from sklearn import preprocessing\n",
    "from sklearn.tree import DecisionTreeClassifier\n",
    "from sklearn.ensemble import RandomForestClassifier\n",
    "from xgboost import XGBClassifier\n",
    "from sklearn.preprocessing import PolynomialFeatures\n",
    "from itertools import combinations\n",
    "%matplotlib inline"
   ]
  },
  {
   "cell_type": "code",
   "execution_count": 2,
   "metadata": {},
   "outputs": [],
   "source": [
    "def LR_tune(X_tr,y_tr,reg):\n",
    "    \n",
    "    C = [0.001,0.01,0.1,1,10,100]\n",
    "    penalty = [reg]\n",
    "        \n",
    "    # for each alpha compute cv accuracy using grid search \n",
    "    # Since we dont have sepeate CV data, using 5 fold crossvalidation on train data\n",
    "    \n",
    "    # Classifier to be used for grid search\n",
    "    clf = LogisticRegression()\n",
    "    # hyper parameters to be used for grid search\n",
    "    parameters = dict(C=C,penalty=penalty)\n",
    "    \n",
    "    grid_clf = GridSearchCV(clf,parameters, scoring = 'f1', cv=5, n_jobs=-1,return_train_score = True)\n",
    "    \n",
    "    grid_clf.fit(X_tr,y_tr)\n",
    "\n",
    "    \n",
    "    #train_accuracy = grid_clf.cv_results_['mean_train_score']\n",
    "    #cv_accuracy = grid_clf.cv_results_['mean_test_score']\n",
    "    \n",
    "    opt_c = grid_clf.best_params_['C']\n",
    "    \n",
    "    return opt_c"
   ]
  },
  {
   "cell_type": "code",
   "execution_count": 3,
   "metadata": {},
   "outputs": [],
   "source": [
    "def LR_final(X_tr,y_tr,C,reg):\n",
    "    \n",
    "    clf = LogisticRegression(C=C,penalty = reg)\n",
    "    clf.fit(X_tr, y_tr)\n",
    "\n",
    "    return clf"
   ]
  },
  {
   "cell_type": "code",
   "execution_count": 4,
   "metadata": {},
   "outputs": [],
   "source": [
    "def rbfsvm_tune(X_tr,y_tr):\n",
    "    \n",
    "    C = [0.001,0.01,0.1,1,10,100]\n",
    "    #penalty = reg\n",
    "        \n",
    "    # for each alpha compute cv accuracy using grid search \n",
    "    # Since we dont have sepeate CV data, using 5 fold crossvalidation on train data\n",
    "    \n",
    "    # Classifier to be used for grid search\n",
    "    clf = SVC()\n",
    "    \n",
    "    # hyper parameters to be used for grid search\n",
    "    parameters = dict(C = C)\n",
    "    \n",
    "    grid_clf = GridSearchCV(clf,parameters, scoring = 'f1', cv=5, n_jobs=-1,return_train_score = True)\n",
    "    \n",
    "    grid_clf.fit(X_tr,y_tr)\n",
    "\n",
    "    \n",
    "    #train_accuracy = grid_clf.cv_results_['mean_train_score']\n",
    "    #cv_accuracy = grid_clf.cv_results_['mean_test_score']\n",
    "    \n",
    "    opt_h = grid_clf.best_params_['C']\n",
    "    \n",
    "    return opt_h"
   ]
  },
  {
   "cell_type": "code",
   "execution_count": 5,
   "metadata": {},
   "outputs": [],
   "source": [
    "def rbfsvm_final(X_tr,y_tr,C):\n",
    "    \n",
    "    clf = SVC(C = C)\n",
    "    #cal_clf = CalibratedClassifierCV(base_estimator = clf, method ='sigmoid', cv ='prefit' )\n",
    "    clf.fit(X_tr, y_tr)\n",
    "    \n",
    "    return clf"
   ]
  },
  {
   "cell_type": "code",
   "execution_count": 6,
   "metadata": {},
   "outputs": [],
   "source": [
    "def dt_tune(X_tr,y_tr):\n",
    "    \n",
    "    max_depth = [1, 5, 10, 50, 100, 500, 100]\n",
    "    min_samples_split = [5, 10, 100, 500]\n",
    "        \n",
    "    # for each alpha compute cv accuracy using grid search \n",
    "    # Since we dont have sepeate CV data, using 5 fold crossvalidation on train data\n",
    "    \n",
    "    # Classifier to be used for grid search\n",
    "    clf = DecisionTreeClassifier()\n",
    "    \n",
    "    \n",
    "    # hyper parameters to be used for grid search\n",
    "    parameters = dict(max_depth = max_depth, min_samples_split = min_samples_split)\n",
    "    \n",
    "    grid_clf = GridSearchCV(clf,parameters, scoring = 'f1', cv=5, n_jobs=-1,return_train_score = True)\n",
    "    \n",
    "    grid_clf.fit(X_tr,y_tr)\n",
    "\n",
    "    \n",
    "    #train_accuracy = grid_clf.cv_results_['mean_train_score']\n",
    "    #cv_accuracy = grid_clf.cv_results_['mean_test_score']\n",
    "    \n",
    "    opt_depth = grid_clf.best_params_['max_depth']\n",
    "    opt_split = grid_clf.best_params_['min_samples_split']\n",
    "    \n",
    "    return opt_depth,opt_split"
   ]
  },
  {
   "cell_type": "code",
   "execution_count": 7,
   "metadata": {},
   "outputs": [],
   "source": [
    "def dt_final(X_tr,y_tr,max_depth,min_samples_split):\n",
    "    \n",
    "    clf = DecisionTreeClassifier(max_depth = max_depth, min_samples_split = min_samples_split)\n",
    "    clf.fit(X_tr, y_tr)\n",
    "\n",
    "    return clf"
   ]
  },
  {
   "cell_type": "code",
   "execution_count": 8,
   "metadata": {},
   "outputs": [],
   "source": [
    "def rf_tune(X_tr,y_tr):\n",
    "    \n",
    "    max_depth = [1, 5, 10, 50, 100, 500, 1000]\n",
    "    n_estimators = [5, 10, 100, 500, 1000]\n",
    "        \n",
    "    # for each alpha compute cv accuracy using grid search \n",
    "    # Since we dont have sepeate CV data, using 5 fold crossvalidation on train data\n",
    "    \n",
    "    # Classifier to be used for grid search\n",
    "    clf = RandomForestClassifier()\n",
    "    \n",
    "    \n",
    "    # hyper parameters to be used for grid search\n",
    "    parameters = dict(max_depth = max_depth, n_estimators = n_estimators)\n",
    "    \n",
    "    grid_clf = GridSearchCV(clf,parameters, scoring = 'f1', cv=5, n_jobs=-1,return_train_score = True)\n",
    "    \n",
    "    grid_clf.fit(X_tr,y_tr)\n",
    "\n",
    "    \n",
    "    opt_depth = grid_clf.best_params_['max_depth']\n",
    "    opt_est = grid_clf.best_params_['n_estimators']\n",
    "    \n",
    "    return opt_depth,opt_est"
   ]
  },
  {
   "cell_type": "code",
   "execution_count": 9,
   "metadata": {},
   "outputs": [],
   "source": [
    "def rf_final(X_tr,y_tr,max_depth,n_estimators):\n",
    "    \n",
    "    clf = RandomForestClassifier(max_depth = max_depth, n_estimators = n_estimators)\n",
    "    clf.fit(X_tr, y_tr)\n",
    "    \n",
    "    return clf"
   ]
  },
  {
   "cell_type": "code",
   "execution_count": 10,
   "metadata": {},
   "outputs": [],
   "source": [
    "def xg_tune(X_tr,y_tr):\n",
    "    \n",
    "    max_depth = [1, 5, 10, 50, 100, 500, 1000]\n",
    "    n_estimators = [5, 10, 100, 500, 1000]\n",
    "        \n",
    "    # for each alpha compute cv accuracy using grid search \n",
    "    # Since we dont have sepeate CV data, using 5 fold crossvalidation on train data\n",
    "    \n",
    "    # Classifier to be used for grid search\n",
    "    clf = XGBClassifier()\n",
    "    \n",
    "    \n",
    "    # hyper parameters to be used for grid search\n",
    "    parameters = dict(max_depth = max_depth, n_estimators = n_estimators)\n",
    "    \n",
    "    grid_clf = GridSearchCV(clf,parameters, scoring = 'f1', cv=5, n_jobs=-1,return_train_score = True)\n",
    "    \n",
    "    grid_clf.fit(X_tr,y_tr)\n",
    "\n",
    "    \n",
    "    opt_depth = grid_clf.best_params_['max_depth']\n",
    "    opt_est = grid_clf.best_params_['n_estimators']\n",
    "    \n",
    "    return opt_depth,opt_est"
   ]
  },
  {
   "cell_type": "code",
   "execution_count": 11,
   "metadata": {},
   "outputs": [],
   "source": [
    "def xg_final(X_tr,y_tr,max_depth,n_estimators):\n",
    "    \n",
    "    clf = XGBClassifier(max_depth = max_depth, n_estimators = n_estimators)\n",
    "    clf.fit(X_tr, y_tr)\n",
    "    \n",
    "    return clf"
   ]
  },
  {
   "cell_type": "code",
   "execution_count": 12,
   "metadata": {},
   "outputs": [],
   "source": [
    "data = pd.read_csv(\"train.csv\")"
   ]
  },
  {
   "cell_type": "code",
   "execution_count": 13,
   "metadata": {},
   "outputs": [
    {
     "data": {
      "text/html": [
       "<div>\n",
       "<style scoped>\n",
       "    .dataframe tbody tr th:only-of-type {\n",
       "        vertical-align: middle;\n",
       "    }\n",
       "\n",
       "    .dataframe tbody tr th {\n",
       "        vertical-align: top;\n",
       "    }\n",
       "\n",
       "    .dataframe thead th {\n",
       "        text-align: right;\n",
       "    }\n",
       "</style>\n",
       "<table border=\"1\" class=\"dataframe\">\n",
       "  <thead>\n",
       "    <tr style=\"text-align: right;\">\n",
       "      <th></th>\n",
       "      <th>employee_id</th>\n",
       "      <th>department</th>\n",
       "      <th>region</th>\n",
       "      <th>education</th>\n",
       "      <th>gender</th>\n",
       "      <th>recruitment_channel</th>\n",
       "      <th>no_of_trainings</th>\n",
       "      <th>age</th>\n",
       "      <th>previous_year_rating</th>\n",
       "      <th>length_of_service</th>\n",
       "      <th>KPIs_met &gt;80%</th>\n",
       "      <th>awards_won?</th>\n",
       "      <th>avg_training_score</th>\n",
       "      <th>is_promoted</th>\n",
       "    </tr>\n",
       "  </thead>\n",
       "  <tbody>\n",
       "    <tr>\n",
       "      <th>0</th>\n",
       "      <td>65438</td>\n",
       "      <td>Sales &amp; Marketing</td>\n",
       "      <td>region_7</td>\n",
       "      <td>Master's &amp; above</td>\n",
       "      <td>f</td>\n",
       "      <td>sourcing</td>\n",
       "      <td>1</td>\n",
       "      <td>35</td>\n",
       "      <td>5.0</td>\n",
       "      <td>8</td>\n",
       "      <td>1</td>\n",
       "      <td>0</td>\n",
       "      <td>49</td>\n",
       "      <td>0</td>\n",
       "    </tr>\n",
       "    <tr>\n",
       "      <th>1</th>\n",
       "      <td>65141</td>\n",
       "      <td>Operations</td>\n",
       "      <td>region_22</td>\n",
       "      <td>Bachelor's</td>\n",
       "      <td>m</td>\n",
       "      <td>other</td>\n",
       "      <td>1</td>\n",
       "      <td>30</td>\n",
       "      <td>5.0</td>\n",
       "      <td>4</td>\n",
       "      <td>0</td>\n",
       "      <td>0</td>\n",
       "      <td>60</td>\n",
       "      <td>0</td>\n",
       "    </tr>\n",
       "    <tr>\n",
       "      <th>2</th>\n",
       "      <td>7513</td>\n",
       "      <td>Sales &amp; Marketing</td>\n",
       "      <td>region_19</td>\n",
       "      <td>Bachelor's</td>\n",
       "      <td>m</td>\n",
       "      <td>sourcing</td>\n",
       "      <td>1</td>\n",
       "      <td>34</td>\n",
       "      <td>3.0</td>\n",
       "      <td>7</td>\n",
       "      <td>0</td>\n",
       "      <td>0</td>\n",
       "      <td>50</td>\n",
       "      <td>0</td>\n",
       "    </tr>\n",
       "    <tr>\n",
       "      <th>3</th>\n",
       "      <td>2542</td>\n",
       "      <td>Sales &amp; Marketing</td>\n",
       "      <td>region_23</td>\n",
       "      <td>Bachelor's</td>\n",
       "      <td>m</td>\n",
       "      <td>other</td>\n",
       "      <td>2</td>\n",
       "      <td>39</td>\n",
       "      <td>1.0</td>\n",
       "      <td>10</td>\n",
       "      <td>0</td>\n",
       "      <td>0</td>\n",
       "      <td>50</td>\n",
       "      <td>0</td>\n",
       "    </tr>\n",
       "    <tr>\n",
       "      <th>4</th>\n",
       "      <td>48945</td>\n",
       "      <td>Technology</td>\n",
       "      <td>region_26</td>\n",
       "      <td>Bachelor's</td>\n",
       "      <td>m</td>\n",
       "      <td>other</td>\n",
       "      <td>1</td>\n",
       "      <td>45</td>\n",
       "      <td>3.0</td>\n",
       "      <td>2</td>\n",
       "      <td>0</td>\n",
       "      <td>0</td>\n",
       "      <td>73</td>\n",
       "      <td>0</td>\n",
       "    </tr>\n",
       "  </tbody>\n",
       "</table>\n",
       "</div>"
      ],
      "text/plain": [
       "   employee_id         department     region         education gender  \\\n",
       "0        65438  Sales & Marketing   region_7  Master's & above      f   \n",
       "1        65141         Operations  region_22        Bachelor's      m   \n",
       "2         7513  Sales & Marketing  region_19        Bachelor's      m   \n",
       "3         2542  Sales & Marketing  region_23        Bachelor's      m   \n",
       "4        48945         Technology  region_26        Bachelor's      m   \n",
       "\n",
       "  recruitment_channel  no_of_trainings  age  previous_year_rating  \\\n",
       "0            sourcing                1   35                   5.0   \n",
       "1               other                1   30                   5.0   \n",
       "2            sourcing                1   34                   3.0   \n",
       "3               other                2   39                   1.0   \n",
       "4               other                1   45                   3.0   \n",
       "\n",
       "   length_of_service  KPIs_met >80%  awards_won?  avg_training_score  \\\n",
       "0                  8              1            0                  49   \n",
       "1                  4              0            0                  60   \n",
       "2                  7              0            0                  50   \n",
       "3                 10              0            0                  50   \n",
       "4                  2              0            0                  73   \n",
       "\n",
       "   is_promoted  \n",
       "0            0  \n",
       "1            0  \n",
       "2            0  \n",
       "3            0  \n",
       "4            0  "
      ]
     },
     "execution_count": 13,
     "metadata": {},
     "output_type": "execute_result"
    }
   ],
   "source": [
    "data.head()"
   ]
  },
  {
   "cell_type": "code",
   "execution_count": 14,
   "metadata": {},
   "outputs": [
    {
     "name": "stdout",
     "output_type": "stream",
     "text": [
      "<class 'pandas.core.frame.DataFrame'>\n",
      "RangeIndex: 54808 entries, 0 to 54807\n",
      "Data columns (total 14 columns):\n",
      "employee_id             54808 non-null int64\n",
      "department              54808 non-null object\n",
      "region                  54808 non-null object\n",
      "education               52399 non-null object\n",
      "gender                  54808 non-null object\n",
      "recruitment_channel     54808 non-null object\n",
      "no_of_trainings         54808 non-null int64\n",
      "age                     54808 non-null int64\n",
      "previous_year_rating    50684 non-null float64\n",
      "length_of_service       54808 non-null int64\n",
      "KPIs_met >80%           54808 non-null int64\n",
      "awards_won?             54808 non-null int64\n",
      "avg_training_score      54808 non-null int64\n",
      "is_promoted             54808 non-null int64\n",
      "dtypes: float64(1), int64(8), object(5)\n",
      "memory usage: 5.9+ MB\n"
     ]
    }
   ],
   "source": [
    "data.info()"
   ]
  },
  {
   "cell_type": "code",
   "execution_count": 15,
   "metadata": {},
   "outputs": [
    {
     "data": {
      "text/html": [
       "<div>\n",
       "<style scoped>\n",
       "    .dataframe tbody tr th:only-of-type {\n",
       "        vertical-align: middle;\n",
       "    }\n",
       "\n",
       "    .dataframe tbody tr th {\n",
       "        vertical-align: top;\n",
       "    }\n",
       "\n",
       "    .dataframe thead th {\n",
       "        text-align: right;\n",
       "    }\n",
       "</style>\n",
       "<table border=\"1\" class=\"dataframe\">\n",
       "  <thead>\n",
       "    <tr style=\"text-align: right;\">\n",
       "      <th></th>\n",
       "      <th>employee_id</th>\n",
       "      <th>no_of_trainings</th>\n",
       "      <th>age</th>\n",
       "      <th>previous_year_rating</th>\n",
       "      <th>length_of_service</th>\n",
       "      <th>KPIs_met &gt;80%</th>\n",
       "      <th>awards_won?</th>\n",
       "      <th>avg_training_score</th>\n",
       "      <th>is_promoted</th>\n",
       "    </tr>\n",
       "  </thead>\n",
       "  <tbody>\n",
       "    <tr>\n",
       "      <th>count</th>\n",
       "      <td>54808.000000</td>\n",
       "      <td>54808.000000</td>\n",
       "      <td>54808.000000</td>\n",
       "      <td>50684.000000</td>\n",
       "      <td>54808.000000</td>\n",
       "      <td>54808.000000</td>\n",
       "      <td>54808.000000</td>\n",
       "      <td>54808.000000</td>\n",
       "      <td>54808.000000</td>\n",
       "    </tr>\n",
       "    <tr>\n",
       "      <th>mean</th>\n",
       "      <td>39195.830627</td>\n",
       "      <td>1.253011</td>\n",
       "      <td>34.803915</td>\n",
       "      <td>3.329256</td>\n",
       "      <td>5.865512</td>\n",
       "      <td>0.351974</td>\n",
       "      <td>0.023172</td>\n",
       "      <td>63.386750</td>\n",
       "      <td>0.085170</td>\n",
       "    </tr>\n",
       "    <tr>\n",
       "      <th>std</th>\n",
       "      <td>22586.581449</td>\n",
       "      <td>0.609264</td>\n",
       "      <td>7.660169</td>\n",
       "      <td>1.259993</td>\n",
       "      <td>4.265094</td>\n",
       "      <td>0.477590</td>\n",
       "      <td>0.150450</td>\n",
       "      <td>13.371559</td>\n",
       "      <td>0.279137</td>\n",
       "    </tr>\n",
       "    <tr>\n",
       "      <th>min</th>\n",
       "      <td>1.000000</td>\n",
       "      <td>1.000000</td>\n",
       "      <td>20.000000</td>\n",
       "      <td>1.000000</td>\n",
       "      <td>1.000000</td>\n",
       "      <td>0.000000</td>\n",
       "      <td>0.000000</td>\n",
       "      <td>39.000000</td>\n",
       "      <td>0.000000</td>\n",
       "    </tr>\n",
       "    <tr>\n",
       "      <th>25%</th>\n",
       "      <td>19669.750000</td>\n",
       "      <td>1.000000</td>\n",
       "      <td>29.000000</td>\n",
       "      <td>3.000000</td>\n",
       "      <td>3.000000</td>\n",
       "      <td>0.000000</td>\n",
       "      <td>0.000000</td>\n",
       "      <td>51.000000</td>\n",
       "      <td>0.000000</td>\n",
       "    </tr>\n",
       "    <tr>\n",
       "      <th>50%</th>\n",
       "      <td>39225.500000</td>\n",
       "      <td>1.000000</td>\n",
       "      <td>33.000000</td>\n",
       "      <td>3.000000</td>\n",
       "      <td>5.000000</td>\n",
       "      <td>0.000000</td>\n",
       "      <td>0.000000</td>\n",
       "      <td>60.000000</td>\n",
       "      <td>0.000000</td>\n",
       "    </tr>\n",
       "    <tr>\n",
       "      <th>75%</th>\n",
       "      <td>58730.500000</td>\n",
       "      <td>1.000000</td>\n",
       "      <td>39.000000</td>\n",
       "      <td>4.000000</td>\n",
       "      <td>7.000000</td>\n",
       "      <td>1.000000</td>\n",
       "      <td>0.000000</td>\n",
       "      <td>76.000000</td>\n",
       "      <td>0.000000</td>\n",
       "    </tr>\n",
       "    <tr>\n",
       "      <th>max</th>\n",
       "      <td>78298.000000</td>\n",
       "      <td>10.000000</td>\n",
       "      <td>60.000000</td>\n",
       "      <td>5.000000</td>\n",
       "      <td>37.000000</td>\n",
       "      <td>1.000000</td>\n",
       "      <td>1.000000</td>\n",
       "      <td>99.000000</td>\n",
       "      <td>1.000000</td>\n",
       "    </tr>\n",
       "  </tbody>\n",
       "</table>\n",
       "</div>"
      ],
      "text/plain": [
       "        employee_id  no_of_trainings           age  previous_year_rating  \\\n",
       "count  54808.000000     54808.000000  54808.000000          50684.000000   \n",
       "mean   39195.830627         1.253011     34.803915              3.329256   \n",
       "std    22586.581449         0.609264      7.660169              1.259993   \n",
       "min        1.000000         1.000000     20.000000              1.000000   \n",
       "25%    19669.750000         1.000000     29.000000              3.000000   \n",
       "50%    39225.500000         1.000000     33.000000              3.000000   \n",
       "75%    58730.500000         1.000000     39.000000              4.000000   \n",
       "max    78298.000000        10.000000     60.000000              5.000000   \n",
       "\n",
       "       length_of_service  KPIs_met >80%   awards_won?  avg_training_score  \\\n",
       "count       54808.000000   54808.000000  54808.000000        54808.000000   \n",
       "mean            5.865512       0.351974      0.023172           63.386750   \n",
       "std             4.265094       0.477590      0.150450           13.371559   \n",
       "min             1.000000       0.000000      0.000000           39.000000   \n",
       "25%             3.000000       0.000000      0.000000           51.000000   \n",
       "50%             5.000000       0.000000      0.000000           60.000000   \n",
       "75%             7.000000       1.000000      0.000000           76.000000   \n",
       "max            37.000000       1.000000      1.000000           99.000000   \n",
       "\n",
       "        is_promoted  \n",
       "count  54808.000000  \n",
       "mean       0.085170  \n",
       "std        0.279137  \n",
       "min        0.000000  \n",
       "25%        0.000000  \n",
       "50%        0.000000  \n",
       "75%        0.000000  \n",
       "max        1.000000  "
      ]
     },
     "execution_count": 15,
     "metadata": {},
     "output_type": "execute_result"
    }
   ],
   "source": [
    "data.describe()"
   ]
  },
  {
   "cell_type": "code",
   "execution_count": 16,
   "metadata": {},
   "outputs": [
    {
     "data": {
      "text/plain": [
       "employee_id                0\n",
       "department                 0\n",
       "region                     0\n",
       "education               2409\n",
       "gender                     0\n",
       "recruitment_channel        0\n",
       "no_of_trainings            0\n",
       "age                        0\n",
       "previous_year_rating    4124\n",
       "length_of_service          0\n",
       "KPIs_met >80%              0\n",
       "awards_won?                0\n",
       "avg_training_score         0\n",
       "is_promoted                0\n",
       "dtype: int64"
      ]
     },
     "execution_count": 16,
     "metadata": {},
     "output_type": "execute_result"
    }
   ],
   "source": [
    "data.isnull().sum()"
   ]
  },
  {
   "cell_type": "code",
   "execution_count": 17,
   "metadata": {},
   "outputs": [
    {
     "data": {
      "text/plain": [
       "0    50140\n",
       "1     4668\n",
       "Name: is_promoted, dtype: int64"
      ]
     },
     "execution_count": 17,
     "metadata": {},
     "output_type": "execute_result"
    }
   ],
   "source": [
    "# this is nothing but an imbalanced data\n",
    "data['is_promoted'].value_counts()"
   ]
  },
  {
   "cell_type": "code",
   "execution_count": null,
   "metadata": {},
   "outputs": [],
   "source": []
  },
  {
   "cell_type": "code",
   "execution_count": 12,
   "metadata": {},
   "outputs": [],
   "source": [
    "# Check with Numeric variables"
   ]
  },
  {
   "cell_type": "code",
   "execution_count": 18,
   "metadata": {},
   "outputs": [],
   "source": [
    "d1 = data[['no_of_trainings','age','length_of_service','avg_training_score']]"
   ]
  },
  {
   "cell_type": "code",
   "execution_count": 19,
   "metadata": {},
   "outputs": [
    {
     "data": {
      "text/html": [
       "<div>\n",
       "<style scoped>\n",
       "    .dataframe tbody tr th:only-of-type {\n",
       "        vertical-align: middle;\n",
       "    }\n",
       "\n",
       "    .dataframe tbody tr th {\n",
       "        vertical-align: top;\n",
       "    }\n",
       "\n",
       "    .dataframe thead th {\n",
       "        text-align: right;\n",
       "    }\n",
       "</style>\n",
       "<table border=\"1\" class=\"dataframe\">\n",
       "  <thead>\n",
       "    <tr style=\"text-align: right;\">\n",
       "      <th></th>\n",
       "      <th>no_of_trainings</th>\n",
       "      <th>age</th>\n",
       "      <th>length_of_service</th>\n",
       "      <th>avg_training_score</th>\n",
       "    </tr>\n",
       "  </thead>\n",
       "  <tbody>\n",
       "    <tr>\n",
       "      <th>0</th>\n",
       "      <td>1</td>\n",
       "      <td>35</td>\n",
       "      <td>8</td>\n",
       "      <td>49</td>\n",
       "    </tr>\n",
       "    <tr>\n",
       "      <th>1</th>\n",
       "      <td>1</td>\n",
       "      <td>30</td>\n",
       "      <td>4</td>\n",
       "      <td>60</td>\n",
       "    </tr>\n",
       "    <tr>\n",
       "      <th>2</th>\n",
       "      <td>1</td>\n",
       "      <td>34</td>\n",
       "      <td>7</td>\n",
       "      <td>50</td>\n",
       "    </tr>\n",
       "    <tr>\n",
       "      <th>3</th>\n",
       "      <td>2</td>\n",
       "      <td>39</td>\n",
       "      <td>10</td>\n",
       "      <td>50</td>\n",
       "    </tr>\n",
       "    <tr>\n",
       "      <th>4</th>\n",
       "      <td>1</td>\n",
       "      <td>45</td>\n",
       "      <td>2</td>\n",
       "      <td>73</td>\n",
       "    </tr>\n",
       "  </tbody>\n",
       "</table>\n",
       "</div>"
      ],
      "text/plain": [
       "   no_of_trainings  age  length_of_service  avg_training_score\n",
       "0                1   35                  8                  49\n",
       "1                1   30                  4                  60\n",
       "2                1   34                  7                  50\n",
       "3                2   39                 10                  50\n",
       "4                1   45                  2                  73"
      ]
     },
     "execution_count": 19,
     "metadata": {},
     "output_type": "execute_result"
    }
   ],
   "source": [
    "d1.head()"
   ]
  },
  {
   "cell_type": "code",
   "execution_count": 20,
   "metadata": {},
   "outputs": [
    {
     "data": {
      "text/plain": [
       "no_of_trainings       0\n",
       "age                   0\n",
       "length_of_service     0\n",
       "avg_training_score    0\n",
       "dtype: int64"
      ]
     },
     "execution_count": 20,
     "metadata": {},
     "output_type": "execute_result"
    }
   ],
   "source": [
    "d1.isnull().sum()"
   ]
  },
  {
   "cell_type": "code",
   "execution_count": 21,
   "metadata": {},
   "outputs": [
    {
     "data": {
      "text/plain": [
       "<matplotlib.axes._subplots.AxesSubplot at 0x20be5600898>"
      ]
     },
     "execution_count": 21,
     "metadata": {},
     "output_type": "execute_result"
    },
    {
     "data": {
      "image/png": "[encoded data removed]",
      "text/plain": [
       "<Figure size 432x288 with 2 Axes>"
      ]
     },
     "metadata": {
      "needs_background": "light"
     },
     "output_type": "display_data"
    }
   ],
   "source": [
    "sns.heatmap(d1.corr(),annot =True)"
   ]
  },
  {
   "cell_type": "code",
   "execution_count": 22,
   "metadata": {},
   "outputs": [],
   "source": [
    "# 1. convert age to bin and use as categorical variable\n",
    "# 2. High positive corelation between age and length of service"
   ]
  },
  {
   "cell_type": "code",
   "execution_count": 23,
   "metadata": {},
   "outputs": [
    {
     "data": {
      "text/plain": [
       "<matplotlib.axes._subplots.AxesSubplot at 0x20be5ef28d0>"
      ]
     },
     "execution_count": 23,
     "metadata": {},
     "output_type": "execute_result"
    },
    {
     "data": {
      "image/png": "[encoded data removed]",
      "text/plain": [
       "<Figure size 842.4x595.44 with 1 Axes>"
      ]
     },
     "metadata": {
      "needs_background": "light"
     },
     "output_type": "display_data"
    }
   ],
   "source": [
    "target_0 = data.loc[data['is_promoted'] == 0]\n",
    "target_1 = data.loc[data['is_promoted'] == 1]\n",
    "fig, ax = plt.subplots()\n",
    "fig.set_size_inches(11.7, 8.27)\n",
    "sns.distplot(target_0 ['no_of_trainings'],hist=False,color =\"g\") \n",
    "sns.distplot(target_1 ['no_of_trainings'],hist=False,color =\"r\") "
   ]
  },
  {
   "cell_type": "code",
   "execution_count": 24,
   "metadata": {},
   "outputs": [
    {
     "data": {
      "text/plain": [
       "<matplotlib.axes._subplots.AxesSubplot at 0x20be64758d0>"
      ]
     },
     "execution_count": 24,
     "metadata": {},
     "output_type": "execute_result"
    },
    {
     "data": {
      "image/png": "[encoded data removed]",
      "text/plain": [
       "<Figure size 842.4x595.44 with 1 Axes>"
      ]
     },
     "metadata": {
      "needs_background": "light"
     },
     "output_type": "display_data"
    }
   ],
   "source": [
    "fig, ax = plt.subplots()\n",
    "fig.set_size_inches(11.7, 8.27)\n",
    "sns.violinplot(x=\"is_promoted\", y=\"no_of_trainings\", data=data)"
   ]
  },
  {
   "cell_type": "code",
   "execution_count": 25,
   "metadata": {},
   "outputs": [],
   "source": [
    "# we cant say like as the number of training increases the chance of promotin also increases\n",
    "# number of persons who got promoted is zero when number of trainings are greater than 6\n",
    "# binning can be considered"
   ]
  },
  {
   "cell_type": "code",
   "execution_count": 26,
   "metadata": {},
   "outputs": [
    {
     "data": {
      "text/plain": [
       "<matplotlib.axes._subplots.AxesSubplot at 0x20be64de438>"
      ]
     },
     "execution_count": 26,
     "metadata": {},
     "output_type": "execute_result"
    },
    {
     "data": {
      "image/png": "[encoded data removed]",
      "text/plain": [
       "<Figure size 842.4x595.44 with 1 Axes>"
      ]
     },
     "metadata": {
      "needs_background": "light"
     },
     "output_type": "display_data"
    }
   ],
   "source": [
    "target_0 = data.loc[data['is_promoted'] == 0]\n",
    "target_1 = data.loc[data['is_promoted'] == 1]\n",
    "fig, ax = plt.subplots()\n",
    "fig.set_size_inches(11.7, 8.27)\n",
    "sns.distplot(target_0 ['length_of_service'],hist=False,color =\"g\") \n",
    "sns.distplot(target_1 ['length_of_service'],hist=False,color =\"r\") "
   ]
  },
  {
   "cell_type": "code",
   "execution_count": 27,
   "metadata": {},
   "outputs": [
    {
     "data": {
      "text/plain": [
       "<matplotlib.axes._subplots.AxesSubplot at 0x20be617ddd8>"
      ]
     },
     "execution_count": 27,
     "metadata": {},
     "output_type": "execute_result"
    },
    {
     "data": {
      "image/png": "[encoded data removed]",
      "text/plain": [
       "<Figure size 842.4x595.44 with 1 Axes>"
      ]
     },
     "metadata": {
      "needs_background": "light"
     },
     "output_type": "display_data"
    }
   ],
   "source": [
    "fig, ax = plt.subplots()\n",
    "fig.set_size_inches(11.7, 8.27)\n",
    "sns.violinplot(x=\"is_promoted\", y=\"length_of_service\", data=data)"
   ]
  },
  {
   "cell_type": "code",
   "execution_count": 28,
   "metadata": {},
   "outputs": [],
   "source": [
    "# binning can be considered"
   ]
  },
  {
   "cell_type": "code",
   "execution_count": 29,
   "metadata": {},
   "outputs": [
    {
     "data": {
      "text/plain": [
       "<matplotlib.axes._subplots.AxesSubplot at 0x20be5f90860>"
      ]
     },
     "execution_count": 29,
     "metadata": {},
     "output_type": "execute_result"
    },
    {
     "data": {
      "image/png": "[encoded data removed]",
      "text/plain": [
       "<Figure size 842.4x595.44 with 1 Axes>"
      ]
     },
     "metadata": {
      "needs_background": "light"
     },
     "output_type": "display_data"
    }
   ],
   "source": [
    "target_0 = data.loc[data['is_promoted'] == 0]\n",
    "target_1 = data.loc[data['is_promoted'] == 1]\n",
    "fig, ax = plt.subplots()\n",
    "fig.set_size_inches(11.7, 8.27)\n",
    "sns.distplot(target_0 ['avg_training_score'],hist=False,color =\"g\") \n",
    "sns.distplot(target_1 ['avg_training_score'],hist=False,color =\"r\") "
   ]
  },
  {
   "cell_type": "code",
   "execution_count": 30,
   "metadata": {},
   "outputs": [
    {
     "data": {
      "text/plain": [
       "<matplotlib.axes._subplots.AxesSubplot at 0x20be632ae10>"
      ]
     },
     "execution_count": 30,
     "metadata": {},
     "output_type": "execute_result"
    },
    {
     "data": {
      "image/png": "[encoded data removed]",
      "text/plain": [
       "<Figure size 842.4x595.44 with 1 Axes>"
      ]
     },
     "metadata": {
      "needs_background": "light"
     },
     "output_type": "display_data"
    }
   ],
   "source": [
    "fig, ax = plt.subplots()\n",
    "fig.set_size_inches(11.7, 8.27)\n",
    "sns.violinplot(x=\"is_promoted\", y=\"avg_training_score\", data=data)"
   ]
  },
  {
   "cell_type": "code",
   "execution_count": 26,
   "metadata": {},
   "outputs": [],
   "source": [
    "# binning can be considered"
   ]
  },
  {
   "cell_type": "code",
   "execution_count": null,
   "metadata": {},
   "outputs": [],
   "source": []
  },
  {
   "cell_type": "code",
   "execution_count": 31,
   "metadata": {},
   "outputs": [
    {
     "data": {
      "text/plain": [
       "1     44378\n",
       "2      7987\n",
       "3      1776\n",
       "4       468\n",
       "5       128\n",
       "6        44\n",
       "7        12\n",
       "10        5\n",
       "9         5\n",
       "8         5\n",
       "Name: no_of_trainings, dtype: int64"
      ]
     },
     "execution_count": 31,
     "metadata": {},
     "output_type": "execute_result"
    }
   ],
   "source": [
    "#binning No of trainings\n",
    "data['no_of_trainings'].value_counts()"
   ]
  },
  {
   "cell_type": "code",
   "execution_count": 32,
   "metadata": {},
   "outputs": [],
   "source": [
    "bins = [0, 2, 5,10]\n",
    "labels =[1,2,3]\n",
    "data['training_bin'] = pd.cut(data['no_of_trainings'], bins,labels=labels)"
   ]
  },
  {
   "cell_type": "code",
   "execution_count": null,
   "metadata": {},
   "outputs": [],
   "source": []
  },
  {
   "cell_type": "code",
   "execution_count": 29,
   "metadata": {},
   "outputs": [],
   "source": [
    "#binning age\n",
    "#data['age'].value_counts()"
   ]
  },
  {
   "cell_type": "code",
   "execution_count": 33,
   "metadata": {},
   "outputs": [],
   "source": [
    "bins = [18,20,30,40,50,60]\n",
    "labels =[1,2,3,4,5]\n",
    "data['age_bin'] = pd.cut(data['age'], bins,labels=labels)"
   ]
  },
  {
   "cell_type": "code",
   "execution_count": null,
   "metadata": {},
   "outputs": [],
   "source": []
  },
  {
   "cell_type": "code",
   "execution_count": 34,
   "metadata": {},
   "outputs": [],
   "source": [
    "#binning length_of_service\n",
    "#data['length_of_service'].value_counts()"
   ]
  },
  {
   "cell_type": "code",
   "execution_count": 35,
   "metadata": {},
   "outputs": [],
   "source": [
    "bins = [0,10,20,30,40]\n",
    "labels =[1,2,3,4]\n",
    "data['service_bin'] = pd.cut(data['length_of_service'], bins,labels=labels)"
   ]
  },
  {
   "cell_type": "code",
   "execution_count": null,
   "metadata": {},
   "outputs": [],
   "source": []
  },
  {
   "cell_type": "code",
   "execution_count": 36,
   "metadata": {},
   "outputs": [],
   "source": [
    "#binning avg_training_score\n",
    "#data['avg_training_score'].value_counts()"
   ]
  },
  {
   "cell_type": "code",
   "execution_count": 37,
   "metadata": {},
   "outputs": [],
   "source": [
    "bins = [0,50,60,70,80,90,100]\n",
    "labels =[1,2,3,4,5,6]\n",
    "data['score_bin'] = pd.cut(data['avg_training_score'], bins,labels=labels)"
   ]
  },
  {
   "cell_type": "code",
   "execution_count": null,
   "metadata": {},
   "outputs": [],
   "source": []
  },
  {
   "cell_type": "code",
   "execution_count": 38,
   "metadata": {},
   "outputs": [
    {
     "data": {
      "text/html": [
       "<div>\n",
       "<style scoped>\n",
       "    .dataframe tbody tr th:only-of-type {\n",
       "        vertical-align: middle;\n",
       "    }\n",
       "\n",
       "    .dataframe tbody tr th {\n",
       "        vertical-align: top;\n",
       "    }\n",
       "\n",
       "    .dataframe thead th {\n",
       "        text-align: right;\n",
       "    }\n",
       "</style>\n",
       "<table border=\"1\" class=\"dataframe\">\n",
       "  <thead>\n",
       "    <tr style=\"text-align: right;\">\n",
       "      <th></th>\n",
       "      <th>employee_id</th>\n",
       "      <th>department</th>\n",
       "      <th>region</th>\n",
       "      <th>education</th>\n",
       "      <th>gender</th>\n",
       "      <th>recruitment_channel</th>\n",
       "      <th>no_of_trainings</th>\n",
       "      <th>age</th>\n",
       "      <th>previous_year_rating</th>\n",
       "      <th>length_of_service</th>\n",
       "      <th>KPIs_met &gt;80%</th>\n",
       "      <th>awards_won?</th>\n",
       "      <th>avg_training_score</th>\n",
       "      <th>is_promoted</th>\n",
       "      <th>training_bin</th>\n",
       "      <th>age_bin</th>\n",
       "      <th>service_bin</th>\n",
       "      <th>score_bin</th>\n",
       "    </tr>\n",
       "  </thead>\n",
       "  <tbody>\n",
       "    <tr>\n",
       "      <th>0</th>\n",
       "      <td>65438</td>\n",
       "      <td>Sales &amp; Marketing</td>\n",
       "      <td>region_7</td>\n",
       "      <td>Master's &amp; above</td>\n",
       "      <td>f</td>\n",
       "      <td>sourcing</td>\n",
       "      <td>1</td>\n",
       "      <td>35</td>\n",
       "      <td>5.0</td>\n",
       "      <td>8</td>\n",
       "      <td>1</td>\n",
       "      <td>0</td>\n",
       "      <td>49</td>\n",
       "      <td>0</td>\n",
       "      <td>1</td>\n",
       "      <td>3</td>\n",
       "      <td>1</td>\n",
       "      <td>1</td>\n",
       "    </tr>\n",
       "    <tr>\n",
       "      <th>1</th>\n",
       "      <td>65141</td>\n",
       "      <td>Operations</td>\n",
       "      <td>region_22</td>\n",
       "      <td>Bachelor's</td>\n",
       "      <td>m</td>\n",
       "      <td>other</td>\n",
       "      <td>1</td>\n",
       "      <td>30</td>\n",
       "      <td>5.0</td>\n",
       "      <td>4</td>\n",
       "      <td>0</td>\n",
       "      <td>0</td>\n",
       "      <td>60</td>\n",
       "      <td>0</td>\n",
       "      <td>1</td>\n",
       "      <td>2</td>\n",
       "      <td>1</td>\n",
       "      <td>2</td>\n",
       "    </tr>\n",
       "    <tr>\n",
       "      <th>2</th>\n",
       "      <td>7513</td>\n",
       "      <td>Sales &amp; Marketing</td>\n",
       "      <td>region_19</td>\n",
       "      <td>Bachelor's</td>\n",
       "      <td>m</td>\n",
       "      <td>sourcing</td>\n",
       "      <td>1</td>\n",
       "      <td>34</td>\n",
       "      <td>3.0</td>\n",
       "      <td>7</td>\n",
       "      <td>0</td>\n",
       "      <td>0</td>\n",
       "      <td>50</td>\n",
       "      <td>0</td>\n",
       "      <td>1</td>\n",
       "      <td>3</td>\n",
       "      <td>1</td>\n",
       "      <td>1</td>\n",
       "    </tr>\n",
       "    <tr>\n",
       "      <th>3</th>\n",
       "      <td>2542</td>\n",
       "      <td>Sales &amp; Marketing</td>\n",
       "      <td>region_23</td>\n",
       "      <td>Bachelor's</td>\n",
       "      <td>m</td>\n",
       "      <td>other</td>\n",
       "      <td>2</td>\n",
       "      <td>39</td>\n",
       "      <td>1.0</td>\n",
       "      <td>10</td>\n",
       "      <td>0</td>\n",
       "      <td>0</td>\n",
       "      <td>50</td>\n",
       "      <td>0</td>\n",
       "      <td>1</td>\n",
       "      <td>3</td>\n",
       "      <td>1</td>\n",
       "      <td>1</td>\n",
       "    </tr>\n",
       "    <tr>\n",
       "      <th>4</th>\n",
       "      <td>48945</td>\n",
       "      <td>Technology</td>\n",
       "      <td>region_26</td>\n",
       "      <td>Bachelor's</td>\n",
       "      <td>m</td>\n",
       "      <td>other</td>\n",
       "      <td>1</td>\n",
       "      <td>45</td>\n",
       "      <td>3.0</td>\n",
       "      <td>2</td>\n",
       "      <td>0</td>\n",
       "      <td>0</td>\n",
       "      <td>73</td>\n",
       "      <td>0</td>\n",
       "      <td>1</td>\n",
       "      <td>4</td>\n",
       "      <td>1</td>\n",
       "      <td>4</td>\n",
       "    </tr>\n",
       "  </tbody>\n",
       "</table>\n",
       "</div>"
      ],
      "text/plain": [
       "   employee_id         department     region         education gender  \\\n",
       "0        65438  Sales & Marketing   region_7  Master's & above      f   \n",
       "1        65141         Operations  region_22        Bachelor's      m   \n",
       "2         7513  Sales & Marketing  region_19        Bachelor's      m   \n",
       "3         2542  Sales & Marketing  region_23        Bachelor's      m   \n",
       "4        48945         Technology  region_26        Bachelor's      m   \n",
       "\n",
       "  recruitment_channel  no_of_trainings  age  previous_year_rating  \\\n",
       "0            sourcing                1   35                   5.0   \n",
       "1               other                1   30                   5.0   \n",
       "2            sourcing                1   34                   3.0   \n",
       "3               other                2   39                   1.0   \n",
       "4               other                1   45                   3.0   \n",
       "\n",
       "   length_of_service  KPIs_met >80%  awards_won?  avg_training_score  \\\n",
       "0                  8              1            0                  49   \n",
       "1                  4              0            0                  60   \n",
       "2                  7              0            0                  50   \n",
       "3                 10              0            0                  50   \n",
       "4                  2              0            0                  73   \n",
       "\n",
       "   is_promoted training_bin age_bin service_bin score_bin  \n",
       "0            0            1       3           1         1  \n",
       "1            0            1       2           1         2  \n",
       "2            0            1       3           1         1  \n",
       "3            0            1       3           1         1  \n",
       "4            0            1       4           1         4  "
      ]
     },
     "execution_count": 38,
     "metadata": {},
     "output_type": "execute_result"
    }
   ],
   "source": [
    "data.head()"
   ]
  },
  {
   "cell_type": "code",
   "execution_count": 39,
   "metadata": {},
   "outputs": [
    {
     "data": {
      "text/plain": [
       "employee_id                0\n",
       "department                 0\n",
       "region                     0\n",
       "education               2409\n",
       "gender                     0\n",
       "recruitment_channel        0\n",
       "no_of_trainings            0\n",
       "age                        0\n",
       "previous_year_rating    4124\n",
       "length_of_service          0\n",
       "KPIs_met >80%              0\n",
       "awards_won?                0\n",
       "avg_training_score         0\n",
       "is_promoted                0\n",
       "training_bin               0\n",
       "age_bin                    0\n",
       "service_bin                0\n",
       "score_bin                  0\n",
       "dtype: int64"
      ]
     },
     "execution_count": 39,
     "metadata": {},
     "output_type": "execute_result"
    }
   ],
   "source": [
    "data.isnull().sum()"
   ]
  },
  {
   "cell_type": "code",
   "execution_count": 40,
   "metadata": {},
   "outputs": [
    {
     "data": {
      "text/plain": [
       "employee_id                0\n",
       "department                 0\n",
       "region                     0\n",
       "education               2409\n",
       "gender                     0\n",
       "recruitment_channel        0\n",
       "no_of_trainings            0\n",
       "age                        0\n",
       "previous_year_rating       0\n",
       "length_of_service          0\n",
       "KPIs_met >80%              0\n",
       "awards_won?                0\n",
       "avg_training_score         0\n",
       "is_promoted                0\n",
       "training_bin               0\n",
       "age_bin                    0\n",
       "service_bin                0\n",
       "score_bin                  0\n",
       "dtype: int64"
      ]
     },
     "execution_count": 40,
     "metadata": {},
     "output_type": "execute_result"
    }
   ],
   "source": [
    "# Filling rating null values with 1\n",
    "data['previous_year_rating'].fillna(1,inplace =True)\n",
    "data.isnull().sum()"
   ]
  },
  {
   "cell_type": "code",
   "execution_count": 41,
   "metadata": {},
   "outputs": [
    {
     "data": {
      "text/plain": [
       "array([\"Master's & above\", \"Bachelor's\", nan, 'Below Secondary'],\n",
       "      dtype=object)"
      ]
     },
     "execution_count": 41,
     "metadata": {},
     "output_type": "execute_result"
    }
   ],
   "source": [
    "data['education'].unique()"
   ]
  },
  {
   "cell_type": "code",
   "execution_count": 42,
   "metadata": {},
   "outputs": [
    {
     "data": {
      "text/plain": [
       "employee_id             0\n",
       "department              0\n",
       "region                  0\n",
       "education               0\n",
       "gender                  0\n",
       "recruitment_channel     0\n",
       "no_of_trainings         0\n",
       "age                     0\n",
       "previous_year_rating    0\n",
       "length_of_service       0\n",
       "KPIs_met >80%           0\n",
       "awards_won?             0\n",
       "avg_training_score      0\n",
       "is_promoted             0\n",
       "training_bin            0\n",
       "age_bin                 0\n",
       "service_bin             0\n",
       "score_bin               0\n",
       "dtype: int64"
      ]
     },
     "execution_count": 42,
     "metadata": {},
     "output_type": "execute_result"
    }
   ],
   "source": [
    "# Filling education null values with \"Below secondary\"\n",
    "data['education'].fillna('Below Secondary',inplace =True)\n",
    "data.isnull().sum()"
   ]
  },
  {
   "cell_type": "code",
   "execution_count": null,
   "metadata": {},
   "outputs": [],
   "source": []
  },
  {
   "cell_type": "code",
   "execution_count": 43,
   "metadata": {},
   "outputs": [],
   "source": [
    "# Transformation\n",
    "# Encoding in to numerical categories\n",
    "label = preprocessing.LabelEncoder()   \n",
    "data['dept_Code'] = label.fit_transform(data['department'])\n",
    "data['region_Code'] = label.fit_transform(data['region'])\n",
    "data['edu_Code'] = label.fit_transform(data['education'])\n",
    "data['gender_Code'] = label.fit_transform(data['gender'])\n",
    "data['ch_Code'] = label.fit_transform(data['recruitment_channel'])  "
   ]
  },
  {
   "cell_type": "code",
   "execution_count": null,
   "metadata": {},
   "outputs": [],
   "source": []
  },
  {
   "cell_type": "code",
   "execution_count": 44,
   "metadata": {},
   "outputs": [
    {
     "data": {
      "text/html": [
       "<div>\n",
       "<style scoped>\n",
       "    .dataframe tbody tr th:only-of-type {\n",
       "        vertical-align: middle;\n",
       "    }\n",
       "\n",
       "    .dataframe tbody tr th {\n",
       "        vertical-align: top;\n",
       "    }\n",
       "\n",
       "    .dataframe thead th {\n",
       "        text-align: right;\n",
       "    }\n",
       "</style>\n",
       "<table border=\"1\" class=\"dataframe\">\n",
       "  <thead>\n",
       "    <tr style=\"text-align: right;\">\n",
       "      <th></th>\n",
       "      <th>employee_id</th>\n",
       "      <th>department</th>\n",
       "      <th>region</th>\n",
       "      <th>education</th>\n",
       "      <th>gender</th>\n",
       "      <th>recruitment_channel</th>\n",
       "      <th>no_of_trainings</th>\n",
       "      <th>age</th>\n",
       "      <th>previous_year_rating</th>\n",
       "      <th>length_of_service</th>\n",
       "      <th>...</th>\n",
       "      <th>is_promoted</th>\n",
       "      <th>training_bin</th>\n",
       "      <th>age_bin</th>\n",
       "      <th>service_bin</th>\n",
       "      <th>score_bin</th>\n",
       "      <th>dept_Code</th>\n",
       "      <th>region_Code</th>\n",
       "      <th>edu_Code</th>\n",
       "      <th>gender_Code</th>\n",
       "      <th>ch_Code</th>\n",
       "    </tr>\n",
       "  </thead>\n",
       "  <tbody>\n",
       "    <tr>\n",
       "      <th>0</th>\n",
       "      <td>65438</td>\n",
       "      <td>Sales &amp; Marketing</td>\n",
       "      <td>region_7</td>\n",
       "      <td>Master's &amp; above</td>\n",
       "      <td>f</td>\n",
       "      <td>sourcing</td>\n",
       "      <td>1</td>\n",
       "      <td>35</td>\n",
       "      <td>5.0</td>\n",
       "      <td>8</td>\n",
       "      <td>...</td>\n",
       "      <td>0</td>\n",
       "      <td>1</td>\n",
       "      <td>3</td>\n",
       "      <td>1</td>\n",
       "      <td>1</td>\n",
       "      <td>7</td>\n",
       "      <td>31</td>\n",
       "      <td>2</td>\n",
       "      <td>0</td>\n",
       "      <td>2</td>\n",
       "    </tr>\n",
       "    <tr>\n",
       "      <th>1</th>\n",
       "      <td>65141</td>\n",
       "      <td>Operations</td>\n",
       "      <td>region_22</td>\n",
       "      <td>Bachelor's</td>\n",
       "      <td>m</td>\n",
       "      <td>other</td>\n",
       "      <td>1</td>\n",
       "      <td>30</td>\n",
       "      <td>5.0</td>\n",
       "      <td>4</td>\n",
       "      <td>...</td>\n",
       "      <td>0</td>\n",
       "      <td>1</td>\n",
       "      <td>2</td>\n",
       "      <td>1</td>\n",
       "      <td>2</td>\n",
       "      <td>4</td>\n",
       "      <td>14</td>\n",
       "      <td>0</td>\n",
       "      <td>1</td>\n",
       "      <td>0</td>\n",
       "    </tr>\n",
       "    <tr>\n",
       "      <th>2</th>\n",
       "      <td>7513</td>\n",
       "      <td>Sales &amp; Marketing</td>\n",
       "      <td>region_19</td>\n",
       "      <td>Bachelor's</td>\n",
       "      <td>m</td>\n",
       "      <td>sourcing</td>\n",
       "      <td>1</td>\n",
       "      <td>34</td>\n",
       "      <td>3.0</td>\n",
       "      <td>7</td>\n",
       "      <td>...</td>\n",
       "      <td>0</td>\n",
       "      <td>1</td>\n",
       "      <td>3</td>\n",
       "      <td>1</td>\n",
       "      <td>1</td>\n",
       "      <td>7</td>\n",
       "      <td>10</td>\n",
       "      <td>0</td>\n",
       "      <td>1</td>\n",
       "      <td>2</td>\n",
       "    </tr>\n",
       "    <tr>\n",
       "      <th>3</th>\n",
       "      <td>2542</td>\n",
       "      <td>Sales &amp; Marketing</td>\n",
       "      <td>region_23</td>\n",
       "      <td>Bachelor's</td>\n",
       "      <td>m</td>\n",
       "      <td>other</td>\n",
       "      <td>2</td>\n",
       "      <td>39</td>\n",
       "      <td>1.0</td>\n",
       "      <td>10</td>\n",
       "      <td>...</td>\n",
       "      <td>0</td>\n",
       "      <td>1</td>\n",
       "      <td>3</td>\n",
       "      <td>1</td>\n",
       "      <td>1</td>\n",
       "      <td>7</td>\n",
       "      <td>15</td>\n",
       "      <td>0</td>\n",
       "      <td>1</td>\n",
       "      <td>0</td>\n",
       "    </tr>\n",
       "    <tr>\n",
       "      <th>4</th>\n",
       "      <td>48945</td>\n",
       "      <td>Technology</td>\n",
       "      <td>region_26</td>\n",
       "      <td>Bachelor's</td>\n",
       "      <td>m</td>\n",
       "      <td>other</td>\n",
       "      <td>1</td>\n",
       "      <td>45</td>\n",
       "      <td>3.0</td>\n",
       "      <td>2</td>\n",
       "      <td>...</td>\n",
       "      <td>0</td>\n",
       "      <td>1</td>\n",
       "      <td>4</td>\n",
       "      <td>1</td>\n",
       "      <td>4</td>\n",
       "      <td>8</td>\n",
       "      <td>18</td>\n",
       "      <td>0</td>\n",
       "      <td>1</td>\n",
       "      <td>0</td>\n",
       "    </tr>\n",
       "  </tbody>\n",
       "</table>\n",
       "<p>5 rows × 23 columns</p>\n",
       "</div>"
      ],
      "text/plain": [
       "   employee_id         department     region         education gender  \\\n",
       "0        65438  Sales & Marketing   region_7  Master's & above      f   \n",
       "1        65141         Operations  region_22        Bachelor's      m   \n",
       "2         7513  Sales & Marketing  region_19        Bachelor's      m   \n",
       "3         2542  Sales & Marketing  region_23        Bachelor's      m   \n",
       "4        48945         Technology  region_26        Bachelor's      m   \n",
       "\n",
       "  recruitment_channel  no_of_trainings  age  previous_year_rating  \\\n",
       "0            sourcing                1   35                   5.0   \n",
       "1               other                1   30                   5.0   \n",
       "2            sourcing                1   34                   3.0   \n",
       "3               other                2   39                   1.0   \n",
       "4               other                1   45                   3.0   \n",
       "\n",
       "   length_of_service  ...  is_promoted  training_bin  age_bin  service_bin  \\\n",
       "0                  8  ...            0             1        3            1   \n",
       "1                  4  ...            0             1        2            1   \n",
       "2                  7  ...            0             1        3            1   \n",
       "3                 10  ...            0             1        3            1   \n",
       "4                  2  ...            0             1        4            1   \n",
       "\n",
       "  score_bin dept_Code region_Code edu_Code  gender_Code  ch_Code  \n",
       "0         1         7          31        2            0        2  \n",
       "1         2         4          14        0            1        0  \n",
       "2         1         7          10        0            1        2  \n",
       "3         1         7          15        0            1        0  \n",
       "4         4         8          18        0            1        0  \n",
       "\n",
       "[5 rows x 23 columns]"
      ]
     },
     "execution_count": 44,
     "metadata": {},
     "output_type": "execute_result"
    }
   ],
   "source": [
    "data.head()"
   ]
  },
  {
   "cell_type": "code",
   "execution_count": null,
   "metadata": {},
   "outputs": [],
   "source": []
  },
  {
   "cell_type": "code",
   "execution_count": null,
   "metadata": {},
   "outputs": [],
   "source": []
  },
  {
   "cell_type": "code",
   "execution_count": 46,
   "metadata": {},
   "outputs": [],
   "source": [
    "# adding polynomial features\n",
    "def add_interactions(df):\n",
    "    combos = list(combinations(list(df.columns), 2))\n",
    "    colnames = list(df.columns)+['_'.join(x) for x in combos]\n",
    "    \n",
    "    \n",
    "    poly = PolynomialFeatures(interaction_only=True, include_bias=False)\n",
    "    df = poly.fit_transform(df)\n",
    "    df = pd.DataFrame(df)\n",
    "    df.columns = colnames\n",
    "    \n",
    "    noint_indices = [i for i,x in enumerate(list((df==0).all())) if x]\n",
    "    df= df.drop(df.columns[noint_indices], axis=1)\n",
    "    \n",
    "    return df"
   ]
  },
  {
   "cell_type": "code",
   "execution_count": null,
   "metadata": {},
   "outputs": [],
   "source": []
  },
  {
   "cell_type": "code",
   "execution_count": null,
   "metadata": {},
   "outputs": [],
   "source": []
  },
  {
   "cell_type": "code",
   "execution_count": 47,
   "metadata": {},
   "outputs": [],
   "source": [
    "# https://www.kaggle.com/rafjaa/resampling-strategies-for-imbalanced-datasets\n",
    "# https://www.kaggle.com/janiobachmann/credit-fraud-dealing-with-imbalanced-datasets"
   ]
  },
  {
   "cell_type": "code",
   "execution_count": null,
   "metadata": {},
   "outputs": [],
   "source": []
  },
  {
   "cell_type": "code",
   "execution_count": 48,
   "metadata": {},
   "outputs": [],
   "source": [
    "X = data[['dept_Code','region_Code','edu_Code','gender_Code','ch_Code','training_bin','age_bin','previous_year_rating','service_bin','KPIs_met >80%','awards_won?','score_bin']]\n",
    "#X = data[['education','previous_year_rating','age','length_of_service','KPIs_met >80%','avg_training_score']]\n",
    "y = data['is_promoted']"
   ]
  },
  {
   "cell_type": "code",
   "execution_count": 49,
   "metadata": {},
   "outputs": [
    {
     "data": {
      "text/html": [
       "<div>\n",
       "<style scoped>\n",
       "    .dataframe tbody tr th:only-of-type {\n",
       "        vertical-align: middle;\n",
       "    }\n",
       "\n",
       "    .dataframe tbody tr th {\n",
       "        vertical-align: top;\n",
       "    }\n",
       "\n",
       "    .dataframe thead th {\n",
       "        text-align: right;\n",
       "    }\n",
       "</style>\n",
       "<table border=\"1\" class=\"dataframe\">\n",
       "  <thead>\n",
       "    <tr style=\"text-align: right;\">\n",
       "      <th></th>\n",
       "      <th>dept_Code</th>\n",
       "      <th>region_Code</th>\n",
       "      <th>edu_Code</th>\n",
       "      <th>gender_Code</th>\n",
       "      <th>ch_Code</th>\n",
       "      <th>training_bin</th>\n",
       "      <th>age_bin</th>\n",
       "      <th>previous_year_rating</th>\n",
       "      <th>service_bin</th>\n",
       "      <th>KPIs_met &gt;80%</th>\n",
       "      <th>awards_won?</th>\n",
       "      <th>score_bin</th>\n",
       "    </tr>\n",
       "  </thead>\n",
       "  <tbody>\n",
       "    <tr>\n",
       "      <th>0</th>\n",
       "      <td>7</td>\n",
       "      <td>31</td>\n",
       "      <td>2</td>\n",
       "      <td>0</td>\n",
       "      <td>2</td>\n",
       "      <td>1</td>\n",
       "      <td>3</td>\n",
       "      <td>5.0</td>\n",
       "      <td>1</td>\n",
       "      <td>1</td>\n",
       "      <td>0</td>\n",
       "      <td>1</td>\n",
       "    </tr>\n",
       "    <tr>\n",
       "      <th>1</th>\n",
       "      <td>4</td>\n",
       "      <td>14</td>\n",
       "      <td>0</td>\n",
       "      <td>1</td>\n",
       "      <td>0</td>\n",
       "      <td>1</td>\n",
       "      <td>2</td>\n",
       "      <td>5.0</td>\n",
       "      <td>1</td>\n",
       "      <td>0</td>\n",
       "      <td>0</td>\n",
       "      <td>2</td>\n",
       "    </tr>\n",
       "    <tr>\n",
       "      <th>2</th>\n",
       "      <td>7</td>\n",
       "      <td>10</td>\n",
       "      <td>0</td>\n",
       "      <td>1</td>\n",
       "      <td>2</td>\n",
       "      <td>1</td>\n",
       "      <td>3</td>\n",
       "      <td>3.0</td>\n",
       "      <td>1</td>\n",
       "      <td>0</td>\n",
       "      <td>0</td>\n",
       "      <td>1</td>\n",
       "    </tr>\n",
       "    <tr>\n",
       "      <th>3</th>\n",
       "      <td>7</td>\n",
       "      <td>15</td>\n",
       "      <td>0</td>\n",
       "      <td>1</td>\n",
       "      <td>0</td>\n",
       "      <td>1</td>\n",
       "      <td>3</td>\n",
       "      <td>1.0</td>\n",
       "      <td>1</td>\n",
       "      <td>0</td>\n",
       "      <td>0</td>\n",
       "      <td>1</td>\n",
       "    </tr>\n",
       "    <tr>\n",
       "      <th>4</th>\n",
       "      <td>8</td>\n",
       "      <td>18</td>\n",
       "      <td>0</td>\n",
       "      <td>1</td>\n",
       "      <td>0</td>\n",
       "      <td>1</td>\n",
       "      <td>4</td>\n",
       "      <td>3.0</td>\n",
       "      <td>1</td>\n",
       "      <td>0</td>\n",
       "      <td>0</td>\n",
       "      <td>4</td>\n",
       "    </tr>\n",
       "  </tbody>\n",
       "</table>\n",
       "</div>"
      ],
      "text/plain": [
       "   dept_Code  region_Code  edu_Code  gender_Code  ch_Code training_bin  \\\n",
       "0          7           31         2            0        2            1   \n",
       "1          4           14         0            1        0            1   \n",
       "2          7           10         0            1        2            1   \n",
       "3          7           15         0            1        0            1   \n",
       "4          8           18         0            1        0            1   \n",
       "\n",
       "  age_bin  previous_year_rating service_bin  KPIs_met >80%  awards_won?  \\\n",
       "0       3                   5.0           1              1            0   \n",
       "1       2                   5.0           1              0            0   \n",
       "2       3                   3.0           1              0            0   \n",
       "3       3                   1.0           1              0            0   \n",
       "4       4                   3.0           1              0            0   \n",
       "\n",
       "  score_bin  \n",
       "0         1  \n",
       "1         2  \n",
       "2         1  \n",
       "3         1  \n",
       "4         4  "
      ]
     },
     "execution_count": 49,
     "metadata": {},
     "output_type": "execute_result"
    }
   ],
   "source": [
    "X.head()"
   ]
  },
  {
   "cell_type": "code",
   "execution_count": 50,
   "metadata": {},
   "outputs": [
    {
     "data": {
      "text/plain": [
       "(54808, 12)"
      ]
     },
     "execution_count": 50,
     "metadata": {},
     "output_type": "execute_result"
    }
   ],
   "source": [
    "X.shape"
   ]
  },
  {
   "cell_type": "code",
   "execution_count": 51,
   "metadata": {},
   "outputs": [
    {
     "data": {
      "text/plain": [
       "0    0\n",
       "1    0\n",
       "2    0\n",
       "3    0\n",
       "4    0\n",
       "Name: is_promoted, dtype: int64"
      ]
     },
     "execution_count": 51,
     "metadata": {},
     "output_type": "execute_result"
    }
   ],
   "source": [
    "y.head()"
   ]
  },
  {
   "cell_type": "code",
   "execution_count": 52,
   "metadata": {},
   "outputs": [
    {
     "data": {
      "text/plain": [
       "(54808, 78)"
      ]
     },
     "execution_count": 52,
     "metadata": {},
     "output_type": "execute_result"
    }
   ],
   "source": [
    "X = add_interactions(X)\n",
    "X.shape"
   ]
  },
  {
   "cell_type": "code",
   "execution_count": 53,
   "metadata": {},
   "outputs": [
    {
     "data": {
      "text/html": [
       "<div>\n",
       "<style scoped>\n",
       "    .dataframe tbody tr th:only-of-type {\n",
       "        vertical-align: middle;\n",
       "    }\n",
       "\n",
       "    .dataframe tbody tr th {\n",
       "        vertical-align: top;\n",
       "    }\n",
       "\n",
       "    .dataframe thead th {\n",
       "        text-align: right;\n",
       "    }\n",
       "</style>\n",
       "<table border=\"1\" class=\"dataframe\">\n",
       "  <thead>\n",
       "    <tr style=\"text-align: right;\">\n",
       "      <th></th>\n",
       "      <th>dept_Code</th>\n",
       "      <th>region_Code</th>\n",
       "      <th>edu_Code</th>\n",
       "      <th>gender_Code</th>\n",
       "      <th>ch_Code</th>\n",
       "      <th>training_bin</th>\n",
       "      <th>age_bin</th>\n",
       "      <th>previous_year_rating</th>\n",
       "      <th>service_bin</th>\n",
       "      <th>KPIs_met &gt;80%</th>\n",
       "      <th>...</th>\n",
       "      <th>previous_year_rating_service_bin</th>\n",
       "      <th>previous_year_rating_KPIs_met &gt;80%</th>\n",
       "      <th>previous_year_rating_awards_won?</th>\n",
       "      <th>previous_year_rating_score_bin</th>\n",
       "      <th>service_bin_KPIs_met &gt;80%</th>\n",
       "      <th>service_bin_awards_won?</th>\n",
       "      <th>service_bin_score_bin</th>\n",
       "      <th>KPIs_met &gt;80%_awards_won?</th>\n",
       "      <th>KPIs_met &gt;80%_score_bin</th>\n",
       "      <th>awards_won?_score_bin</th>\n",
       "    </tr>\n",
       "  </thead>\n",
       "  <tbody>\n",
       "    <tr>\n",
       "      <th>0</th>\n",
       "      <td>0.808933</td>\n",
       "      <td>1.776526</td>\n",
       "      <td>1.577483</td>\n",
       "      <td>-1.536223</td>\n",
       "      <td>1.154111</td>\n",
       "      <td>-0.213043</td>\n",
       "      <td>0.104369</td>\n",
       "      <td>1.358824</td>\n",
       "      <td>-0.331539</td>\n",
       "      <td>1.356878</td>\n",
       "      <td>...</td>\n",
       "      <td>0.732980</td>\n",
       "      <td>1.904826</td>\n",
       "      <td>-0.142379</td>\n",
       "      <td>-0.614125</td>\n",
       "      <td>1.127077</td>\n",
       "      <td>-0.150906</td>\n",
       "      <td>-1.118942</td>\n",
       "      <td>-0.123927</td>\n",
       "      <td>-0.012687</td>\n",
       "      <td>-0.138077</td>\n",
       "    </tr>\n",
       "    <tr>\n",
       "      <th>1</th>\n",
       "      <td>-0.388183</td>\n",
       "      <td>-0.163034</td>\n",
       "      <td>-0.681339</td>\n",
       "      <td>0.650947</td>\n",
       "      <td>-0.885239</td>\n",
       "      <td>-0.213043</td>\n",
       "      <td>-1.108316</td>\n",
       "      <td>1.358824</td>\n",
       "      <td>-0.331539</td>\n",
       "      <td>-0.736986</td>\n",
       "      <td>...</td>\n",
       "      <td>0.732980</td>\n",
       "      <td>-0.673581</td>\n",
       "      <td>-0.142379</td>\n",
       "      <td>0.190836</td>\n",
       "      <td>-0.695937</td>\n",
       "      <td>-0.150906</td>\n",
       "      <td>-0.577199</td>\n",
       "      <td>-0.123927</td>\n",
       "      <td>-0.631881</td>\n",
       "      <td>-0.138077</td>\n",
       "    </tr>\n",
       "    <tr>\n",
       "      <th>2</th>\n",
       "      <td>0.808933</td>\n",
       "      <td>-0.619401</td>\n",
       "      <td>-0.681339</td>\n",
       "      <td>0.650947</td>\n",
       "      <td>1.154111</td>\n",
       "      <td>-0.213043</td>\n",
       "      <td>0.104369</td>\n",
       "      <td>-0.113352</td>\n",
       "      <td>-0.331539</td>\n",
       "      <td>-0.736986</td>\n",
       "      <td>...</td>\n",
       "      <td>-0.274005</td>\n",
       "      <td>-0.673581</td>\n",
       "      <td>-0.142379</td>\n",
       "      <td>-0.936109</td>\n",
       "      <td>-0.695937</td>\n",
       "      <td>-0.150906</td>\n",
       "      <td>-1.118942</td>\n",
       "      <td>-0.123927</td>\n",
       "      <td>-0.631881</td>\n",
       "      <td>-0.138077</td>\n",
       "    </tr>\n",
       "    <tr>\n",
       "      <th>3</th>\n",
       "      <td>0.808933</td>\n",
       "      <td>-0.048942</td>\n",
       "      <td>-0.681339</td>\n",
       "      <td>0.650947</td>\n",
       "      <td>-0.885239</td>\n",
       "      <td>-0.213043</td>\n",
       "      <td>0.104369</td>\n",
       "      <td>-1.585528</td>\n",
       "      <td>-0.331539</td>\n",
       "      <td>-0.736986</td>\n",
       "      <td>...</td>\n",
       "      <td>-1.280991</td>\n",
       "      <td>-0.673581</td>\n",
       "      <td>-0.142379</td>\n",
       "      <td>-1.258093</td>\n",
       "      <td>-0.695937</td>\n",
       "      <td>-0.150906</td>\n",
       "      <td>-1.118942</td>\n",
       "      <td>-0.123927</td>\n",
       "      <td>-0.631881</td>\n",
       "      <td>-0.138077</td>\n",
       "    </tr>\n",
       "    <tr>\n",
       "      <th>4</th>\n",
       "      <td>1.207972</td>\n",
       "      <td>0.293333</td>\n",
       "      <td>-0.681339</td>\n",
       "      <td>0.650947</td>\n",
       "      <td>-0.885239</td>\n",
       "      <td>-0.213043</td>\n",
       "      <td>1.317053</td>\n",
       "      <td>-0.113352</td>\n",
       "      <td>-0.331539</td>\n",
       "      <td>-0.736986</td>\n",
       "      <td>...</td>\n",
       "      <td>-0.274005</td>\n",
       "      <td>-0.673581</td>\n",
       "      <td>-0.142379</td>\n",
       "      <td>0.512820</td>\n",
       "      <td>-0.695937</td>\n",
       "      <td>-0.150906</td>\n",
       "      <td>0.506288</td>\n",
       "      <td>-0.123927</td>\n",
       "      <td>-0.631881</td>\n",
       "      <td>-0.138077</td>\n",
       "    </tr>\n",
       "  </tbody>\n",
       "</table>\n",
       "<p>5 rows × 78 columns</p>\n",
       "</div>"
      ],
      "text/plain": [
       "   dept_Code  region_Code  edu_Code  gender_Code   ch_Code  training_bin  \\\n",
       "0   0.808933     1.776526  1.577483    -1.536223  1.154111     -0.213043   \n",
       "1  -0.388183    -0.163034 -0.681339     0.650947 -0.885239     -0.213043   \n",
       "2   0.808933    -0.619401 -0.681339     0.650947  1.154111     -0.213043   \n",
       "3   0.808933    -0.048942 -0.681339     0.650947 -0.885239     -0.213043   \n",
       "4   1.207972     0.293333 -0.681339     0.650947 -0.885239     -0.213043   \n",
       "\n",
       "    age_bin  previous_year_rating  service_bin  KPIs_met >80%  ...  \\\n",
       "0  0.104369              1.358824    -0.331539       1.356878  ...   \n",
       "1 -1.108316              1.358824    -0.331539      -0.736986  ...   \n",
       "2  0.104369             -0.113352    -0.331539      -0.736986  ...   \n",
       "3  0.104369             -1.585528    -0.331539      -0.736986  ...   \n",
       "4  1.317053             -0.113352    -0.331539      -0.736986  ...   \n",
       "\n",
       "   previous_year_rating_service_bin  previous_year_rating_KPIs_met >80%  \\\n",
       "0                          0.732980                            1.904826   \n",
       "1                          0.732980                           -0.673581   \n",
       "2                         -0.274005                           -0.673581   \n",
       "3                         -1.280991                           -0.673581   \n",
       "4                         -0.274005                           -0.673581   \n",
       "\n",
       "   previous_year_rating_awards_won?  previous_year_rating_score_bin  \\\n",
       "0                         -0.142379                       -0.614125   \n",
       "1                         -0.142379                        0.190836   \n",
       "2                         -0.142379                       -0.936109   \n",
       "3                         -0.142379                       -1.258093   \n",
       "4                         -0.142379                        0.512820   \n",
       "\n",
       "   service_bin_KPIs_met >80%  service_bin_awards_won?  service_bin_score_bin  \\\n",
       "0                   1.127077                -0.150906              -1.118942   \n",
       "1                  -0.695937                -0.150906              -0.577199   \n",
       "2                  -0.695937                -0.150906              -1.118942   \n",
       "3                  -0.695937                -0.150906              -1.118942   \n",
       "4                  -0.695937                -0.150906               0.506288   \n",
       "\n",
       "   KPIs_met >80%_awards_won?  KPIs_met >80%_score_bin  awards_won?_score_bin  \n",
       "0                  -0.123927                -0.012687              -0.138077  \n",
       "1                  -0.123927                -0.631881              -0.138077  \n",
       "2                  -0.123927                -0.631881              -0.138077  \n",
       "3                  -0.123927                -0.631881              -0.138077  \n",
       "4                  -0.123927                -0.631881              -0.138077  \n",
       "\n",
       "[5 rows x 78 columns]"
      ]
     },
     "execution_count": 53,
     "metadata": {},
     "output_type": "execute_result"
    }
   ],
   "source": [
    "# Standard Scaling\n",
    "scaler = preprocessing.StandardScaler()\n",
    "X_sc = scaler.fit_transform(X)\n",
    "X_sc = pd.DataFrame(X_sc, columns=X.columns)\n",
    "X_sc.head()"
   ]
  },
  {
   "cell_type": "code",
   "execution_count": null,
   "metadata": {},
   "outputs": [],
   "source": []
  },
  {
   "cell_type": "code",
   "execution_count": 86,
   "metadata": {},
   "outputs": [],
   "source": [
    "# Splitting in to Training and Test sets\n",
    "X_tr, X_test, y_tr, y_test = train_test_split(X_sc, y, test_size=0.3, random_state=1)"
   ]
  },
  {
   "cell_type": "code",
   "execution_count": null,
   "metadata": {},
   "outputs": [],
   "source": []
  },
  {
   "cell_type": "code",
   "execution_count": 55,
   "metadata": {},
   "outputs": [
    {
     "name": "stderr",
     "output_type": "stream",
     "text": [
      "C:\\Users\\User\\Anaconda3\\lib\\site-packages\\ipykernel_launcher.py:2: SettingWithCopyWarning: \n",
      "A value is trying to be set on a copy of a slice from a DataFrame.\n",
      "Try using .loc[row_indexer,col_indexer] = value instead\n",
      "\n",
      "See the caveats in the documentation: http://pandas.pydata.org/pandas-docs/stable/indexing.html#indexing-view-versus-copy\n",
      "  \n"
     ]
    }
   ],
   "source": [
    "# Sampling https://www.kaggle.com/rafjaa/resampling-strategies-for-imbalanced-datasets\n",
    "X_tr['target'] = y_tr\n",
    "# Class count\n",
    "class_0, class_1 = X_tr.target.value_counts()"
   ]
  },
  {
   "cell_type": "code",
   "execution_count": 56,
   "metadata": {},
   "outputs": [
    {
     "data": {
      "text/plain": [
       "0    35082\n",
       "1     3283\n",
       "Name: target, dtype: int64"
      ]
     },
     "execution_count": 56,
     "metadata": {},
     "output_type": "execute_result"
    }
   ],
   "source": [
    "X_tr.target.value_counts()"
   ]
  },
  {
   "cell_type": "code",
   "execution_count": 57,
   "metadata": {},
   "outputs": [],
   "source": [
    "# Divide by class\n",
    "df_class_0 = X_tr[X_tr['target'] == 0]\n",
    "df_class_1 = X_tr[X_tr['target'] == 1]\n",
    "\n",
    "df_class_0_under = df_class_0.sample(class_1)\n",
    "X_tr_under = pd.concat([df_class_0_under, df_class_1], axis=0)"
   ]
  },
  {
   "cell_type": "code",
   "execution_count": 58,
   "metadata": {},
   "outputs": [
    {
     "data": {
      "text/plain": [
       "1    3283\n",
       "0    3283\n",
       "Name: target, dtype: int64"
      ]
     },
     "execution_count": 58,
     "metadata": {},
     "output_type": "execute_result"
    }
   ],
   "source": [
    "X_tr_under.target.value_counts()"
   ]
  },
  {
   "cell_type": "code",
   "execution_count": 59,
   "metadata": {},
   "outputs": [
    {
     "data": {
      "text/html": [
       "<div>\n",
       "<style scoped>\n",
       "    .dataframe tbody tr th:only-of-type {\n",
       "        vertical-align: middle;\n",
       "    }\n",
       "\n",
       "    .dataframe tbody tr th {\n",
       "        vertical-align: top;\n",
       "    }\n",
       "\n",
       "    .dataframe thead th {\n",
       "        text-align: right;\n",
       "    }\n",
       "</style>\n",
       "<table border=\"1\" class=\"dataframe\">\n",
       "  <thead>\n",
       "    <tr style=\"text-align: right;\">\n",
       "      <th></th>\n",
       "      <th>dept_Code</th>\n",
       "      <th>region_Code</th>\n",
       "      <th>edu_Code</th>\n",
       "      <th>gender_Code</th>\n",
       "      <th>ch_Code</th>\n",
       "      <th>training_bin</th>\n",
       "      <th>age_bin</th>\n",
       "      <th>previous_year_rating</th>\n",
       "      <th>service_bin</th>\n",
       "      <th>KPIs_met &gt;80%</th>\n",
       "      <th>...</th>\n",
       "      <th>previous_year_rating_KPIs_met &gt;80%</th>\n",
       "      <th>previous_year_rating_awards_won?</th>\n",
       "      <th>previous_year_rating_score_bin</th>\n",
       "      <th>service_bin_KPIs_met &gt;80%</th>\n",
       "      <th>service_bin_awards_won?</th>\n",
       "      <th>service_bin_score_bin</th>\n",
       "      <th>KPIs_met &gt;80%_awards_won?</th>\n",
       "      <th>KPIs_met &gt;80%_score_bin</th>\n",
       "      <th>awards_won?_score_bin</th>\n",
       "      <th>target</th>\n",
       "    </tr>\n",
       "  </thead>\n",
       "  <tbody>\n",
       "    <tr>\n",
       "      <th>53295</th>\n",
       "      <td>-1.585299</td>\n",
       "      <td>-0.163034</td>\n",
       "      <td>1.577483</td>\n",
       "      <td>0.650947</td>\n",
       "      <td>1.154111</td>\n",
       "      <td>-0.213043</td>\n",
       "      <td>0.104369</td>\n",
       "      <td>-0.113352</td>\n",
       "      <td>-0.331539</td>\n",
       "      <td>-0.736986</td>\n",
       "      <td>...</td>\n",
       "      <td>-0.673581</td>\n",
       "      <td>-0.142379</td>\n",
       "      <td>-0.453132</td>\n",
       "      <td>-0.695937</td>\n",
       "      <td>-0.150906</td>\n",
       "      <td>-0.577199</td>\n",
       "      <td>-0.123927</td>\n",
       "      <td>-0.631881</td>\n",
       "      <td>-0.138077</td>\n",
       "      <td>0</td>\n",
       "    </tr>\n",
       "    <tr>\n",
       "      <th>26002</th>\n",
       "      <td>0.808933</td>\n",
       "      <td>-0.163034</td>\n",
       "      <td>-0.681339</td>\n",
       "      <td>0.650947</td>\n",
       "      <td>-0.885239</td>\n",
       "      <td>4.431538</td>\n",
       "      <td>0.104369</td>\n",
       "      <td>-0.113352</td>\n",
       "      <td>-0.331539</td>\n",
       "      <td>-0.736986</td>\n",
       "      <td>...</td>\n",
       "      <td>-0.673581</td>\n",
       "      <td>-0.142379</td>\n",
       "      <td>-0.453132</td>\n",
       "      <td>-0.695937</td>\n",
       "      <td>-0.150906</td>\n",
       "      <td>-0.577199</td>\n",
       "      <td>-0.123927</td>\n",
       "      <td>-0.631881</td>\n",
       "      <td>-0.138077</td>\n",
       "      <td>0</td>\n",
       "    </tr>\n",
       "    <tr>\n",
       "      <th>24083</th>\n",
       "      <td>-0.787222</td>\n",
       "      <td>-1.418043</td>\n",
       "      <td>-0.681339</td>\n",
       "      <td>0.650947</td>\n",
       "      <td>-0.885239</td>\n",
       "      <td>-0.213043</td>\n",
       "      <td>0.104369</td>\n",
       "      <td>1.358824</td>\n",
       "      <td>-0.331539</td>\n",
       "      <td>1.356878</td>\n",
       "      <td>...</td>\n",
       "      <td>1.904826</td>\n",
       "      <td>-0.142379</td>\n",
       "      <td>0.190836</td>\n",
       "      <td>1.127077</td>\n",
       "      <td>-0.150906</td>\n",
       "      <td>-0.577199</td>\n",
       "      <td>-0.123927</td>\n",
       "      <td>0.606507</td>\n",
       "      <td>-0.138077</td>\n",
       "      <td>0</td>\n",
       "    </tr>\n",
       "    <tr>\n",
       "      <th>15734</th>\n",
       "      <td>-1.984338</td>\n",
       "      <td>1.776526</td>\n",
       "      <td>-0.681339</td>\n",
       "      <td>0.650947</td>\n",
       "      <td>1.154111</td>\n",
       "      <td>-0.213043</td>\n",
       "      <td>1.317053</td>\n",
       "      <td>1.358824</td>\n",
       "      <td>-0.331539</td>\n",
       "      <td>-0.736986</td>\n",
       "      <td>...</td>\n",
       "      <td>-0.673581</td>\n",
       "      <td>-0.142379</td>\n",
       "      <td>2.605717</td>\n",
       "      <td>-0.695937</td>\n",
       "      <td>-0.150906</td>\n",
       "      <td>1.048032</td>\n",
       "      <td>-0.123927</td>\n",
       "      <td>-0.631881</td>\n",
       "      <td>-0.138077</td>\n",
       "      <td>0</td>\n",
       "    </tr>\n",
       "    <tr>\n",
       "      <th>31060</th>\n",
       "      <td>-1.984338</td>\n",
       "      <td>-0.163034</td>\n",
       "      <td>1.577483</td>\n",
       "      <td>0.650947</td>\n",
       "      <td>1.154111</td>\n",
       "      <td>-0.213043</td>\n",
       "      <td>-1.108316</td>\n",
       "      <td>0.622736</td>\n",
       "      <td>-0.331539</td>\n",
       "      <td>1.356878</td>\n",
       "      <td>...</td>\n",
       "      <td>1.389145</td>\n",
       "      <td>-0.142379</td>\n",
       "      <td>1.800757</td>\n",
       "      <td>1.127077</td>\n",
       "      <td>-0.150906</td>\n",
       "      <td>1.048032</td>\n",
       "      <td>-0.123927</td>\n",
       "      <td>2.464090</td>\n",
       "      <td>-0.138077</td>\n",
       "      <td>0</td>\n",
       "    </tr>\n",
       "  </tbody>\n",
       "</table>\n",
       "<p>5 rows × 79 columns</p>\n",
       "</div>"
      ],
      "text/plain": [
       "       dept_Code  region_Code  edu_Code  gender_Code   ch_Code  training_bin  \\\n",
       "53295  -1.585299    -0.163034  1.577483     0.650947  1.154111     -0.213043   \n",
       "26002   0.808933    -0.163034 -0.681339     0.650947 -0.885239      4.431538   \n",
       "24083  -0.787222    -1.418043 -0.681339     0.650947 -0.885239     -0.213043   \n",
       "15734  -1.984338     1.776526 -0.681339     0.650947  1.154111     -0.213043   \n",
       "31060  -1.984338    -0.163034  1.577483     0.650947  1.154111     -0.213043   \n",
       "\n",
       "        age_bin  previous_year_rating  service_bin  KPIs_met >80%  ...  \\\n",
       "53295  0.104369             -0.113352    -0.331539      -0.736986  ...   \n",
       "26002  0.104369             -0.113352    -0.331539      -0.736986  ...   \n",
       "24083  0.104369              1.358824    -0.331539       1.356878  ...   \n",
       "15734  1.317053              1.358824    -0.331539      -0.736986  ...   \n",
       "31060 -1.108316              0.622736    -0.331539       1.356878  ...   \n",
       "\n",
       "       previous_year_rating_KPIs_met >80%  previous_year_rating_awards_won?  \\\n",
       "53295                           -0.673581                         -0.142379   \n",
       "26002                           -0.673581                         -0.142379   \n",
       "24083                            1.904826                         -0.142379   \n",
       "15734                           -0.673581                         -0.142379   \n",
       "31060                            1.389145                         -0.142379   \n",
       "\n",
       "       previous_year_rating_score_bin  service_bin_KPIs_met >80%  \\\n",
       "53295                       -0.453132                  -0.695937   \n",
       "26002                       -0.453132                  -0.695937   \n",
       "24083                        0.190836                   1.127077   \n",
       "15734                        2.605717                  -0.695937   \n",
       "31060                        1.800757                   1.127077   \n",
       "\n",
       "       service_bin_awards_won?  service_bin_score_bin  \\\n",
       "53295                -0.150906              -0.577199   \n",
       "26002                -0.150906              -0.577199   \n",
       "24083                -0.150906              -0.577199   \n",
       "15734                -0.150906               1.048032   \n",
       "31060                -0.150906               1.048032   \n",
       "\n",
       "       KPIs_met >80%_awards_won?  KPIs_met >80%_score_bin  \\\n",
       "53295                  -0.123927                -0.631881   \n",
       "26002                  -0.123927                -0.631881   \n",
       "24083                  -0.123927                 0.606507   \n",
       "15734                  -0.123927                -0.631881   \n",
       "31060                  -0.123927                 2.464090   \n",
       "\n",
       "       awards_won?_score_bin  target  \n",
       "53295              -0.138077       0  \n",
       "26002              -0.138077       0  \n",
       "24083              -0.138077       0  \n",
       "15734              -0.138077       0  \n",
       "31060              -0.138077       0  \n",
       "\n",
       "[5 rows x 79 columns]"
      ]
     },
     "execution_count": 59,
     "metadata": {},
     "output_type": "execute_result"
    }
   ],
   "source": [
    "X_tr_under.head()"
   ]
  },
  {
   "cell_type": "code",
   "execution_count": 60,
   "metadata": {},
   "outputs": [
    {
     "data": {
      "text/plain": [
       "pandas.core.series.Series"
      ]
     },
     "execution_count": 60,
     "metadata": {},
     "output_type": "execute_result"
    }
   ],
   "source": [
    "y_tr_under = X_tr_under['target']\n",
    "type(y_tr_under)"
   ]
  },
  {
   "cell_type": "code",
   "execution_count": 61,
   "metadata": {},
   "outputs": [
    {
     "data": {
      "text/html": [
       "<div>\n",
       "<style scoped>\n",
       "    .dataframe tbody tr th:only-of-type {\n",
       "        vertical-align: middle;\n",
       "    }\n",
       "\n",
       "    .dataframe tbody tr th {\n",
       "        vertical-align: top;\n",
       "    }\n",
       "\n",
       "    .dataframe thead th {\n",
       "        text-align: right;\n",
       "    }\n",
       "</style>\n",
       "<table border=\"1\" class=\"dataframe\">\n",
       "  <thead>\n",
       "    <tr style=\"text-align: right;\">\n",
       "      <th></th>\n",
       "      <th>dept_Code</th>\n",
       "      <th>region_Code</th>\n",
       "      <th>edu_Code</th>\n",
       "      <th>gender_Code</th>\n",
       "      <th>ch_Code</th>\n",
       "      <th>training_bin</th>\n",
       "      <th>age_bin</th>\n",
       "      <th>previous_year_rating</th>\n",
       "      <th>service_bin</th>\n",
       "      <th>KPIs_met &gt;80%</th>\n",
       "      <th>...</th>\n",
       "      <th>previous_year_rating_service_bin</th>\n",
       "      <th>previous_year_rating_KPIs_met &gt;80%</th>\n",
       "      <th>previous_year_rating_awards_won?</th>\n",
       "      <th>previous_year_rating_score_bin</th>\n",
       "      <th>service_bin_KPIs_met &gt;80%</th>\n",
       "      <th>service_bin_awards_won?</th>\n",
       "      <th>service_bin_score_bin</th>\n",
       "      <th>KPIs_met &gt;80%_awards_won?</th>\n",
       "      <th>KPIs_met &gt;80%_score_bin</th>\n",
       "      <th>awards_won?_score_bin</th>\n",
       "    </tr>\n",
       "  </thead>\n",
       "  <tbody>\n",
       "    <tr>\n",
       "      <th>53295</th>\n",
       "      <td>-1.585299</td>\n",
       "      <td>-0.163034</td>\n",
       "      <td>1.577483</td>\n",
       "      <td>0.650947</td>\n",
       "      <td>1.154111</td>\n",
       "      <td>-0.213043</td>\n",
       "      <td>0.104369</td>\n",
       "      <td>-0.113352</td>\n",
       "      <td>-0.331539</td>\n",
       "      <td>-0.736986</td>\n",
       "      <td>...</td>\n",
       "      <td>-0.274005</td>\n",
       "      <td>-0.673581</td>\n",
       "      <td>-0.142379</td>\n",
       "      <td>-0.453132</td>\n",
       "      <td>-0.695937</td>\n",
       "      <td>-0.150906</td>\n",
       "      <td>-0.577199</td>\n",
       "      <td>-0.123927</td>\n",
       "      <td>-0.631881</td>\n",
       "      <td>-0.138077</td>\n",
       "    </tr>\n",
       "    <tr>\n",
       "      <th>26002</th>\n",
       "      <td>0.808933</td>\n",
       "      <td>-0.163034</td>\n",
       "      <td>-0.681339</td>\n",
       "      <td>0.650947</td>\n",
       "      <td>-0.885239</td>\n",
       "      <td>4.431538</td>\n",
       "      <td>0.104369</td>\n",
       "      <td>-0.113352</td>\n",
       "      <td>-0.331539</td>\n",
       "      <td>-0.736986</td>\n",
       "      <td>...</td>\n",
       "      <td>-0.274005</td>\n",
       "      <td>-0.673581</td>\n",
       "      <td>-0.142379</td>\n",
       "      <td>-0.453132</td>\n",
       "      <td>-0.695937</td>\n",
       "      <td>-0.150906</td>\n",
       "      <td>-0.577199</td>\n",
       "      <td>-0.123927</td>\n",
       "      <td>-0.631881</td>\n",
       "      <td>-0.138077</td>\n",
       "    </tr>\n",
       "    <tr>\n",
       "      <th>24083</th>\n",
       "      <td>-0.787222</td>\n",
       "      <td>-1.418043</td>\n",
       "      <td>-0.681339</td>\n",
       "      <td>0.650947</td>\n",
       "      <td>-0.885239</td>\n",
       "      <td>-0.213043</td>\n",
       "      <td>0.104369</td>\n",
       "      <td>1.358824</td>\n",
       "      <td>-0.331539</td>\n",
       "      <td>1.356878</td>\n",
       "      <td>...</td>\n",
       "      <td>0.732980</td>\n",
       "      <td>1.904826</td>\n",
       "      <td>-0.142379</td>\n",
       "      <td>0.190836</td>\n",
       "      <td>1.127077</td>\n",
       "      <td>-0.150906</td>\n",
       "      <td>-0.577199</td>\n",
       "      <td>-0.123927</td>\n",
       "      <td>0.606507</td>\n",
       "      <td>-0.138077</td>\n",
       "    </tr>\n",
       "    <tr>\n",
       "      <th>15734</th>\n",
       "      <td>-1.984338</td>\n",
       "      <td>1.776526</td>\n",
       "      <td>-0.681339</td>\n",
       "      <td>0.650947</td>\n",
       "      <td>1.154111</td>\n",
       "      <td>-0.213043</td>\n",
       "      <td>1.317053</td>\n",
       "      <td>1.358824</td>\n",
       "      <td>-0.331539</td>\n",
       "      <td>-0.736986</td>\n",
       "      <td>...</td>\n",
       "      <td>0.732980</td>\n",
       "      <td>-0.673581</td>\n",
       "      <td>-0.142379</td>\n",
       "      <td>2.605717</td>\n",
       "      <td>-0.695937</td>\n",
       "      <td>-0.150906</td>\n",
       "      <td>1.048032</td>\n",
       "      <td>-0.123927</td>\n",
       "      <td>-0.631881</td>\n",
       "      <td>-0.138077</td>\n",
       "    </tr>\n",
       "    <tr>\n",
       "      <th>31060</th>\n",
       "      <td>-1.984338</td>\n",
       "      <td>-0.163034</td>\n",
       "      <td>1.577483</td>\n",
       "      <td>0.650947</td>\n",
       "      <td>1.154111</td>\n",
       "      <td>-0.213043</td>\n",
       "      <td>-1.108316</td>\n",
       "      <td>0.622736</td>\n",
       "      <td>-0.331539</td>\n",
       "      <td>1.356878</td>\n",
       "      <td>...</td>\n",
       "      <td>0.229488</td>\n",
       "      <td>1.389145</td>\n",
       "      <td>-0.142379</td>\n",
       "      <td>1.800757</td>\n",
       "      <td>1.127077</td>\n",
       "      <td>-0.150906</td>\n",
       "      <td>1.048032</td>\n",
       "      <td>-0.123927</td>\n",
       "      <td>2.464090</td>\n",
       "      <td>-0.138077</td>\n",
       "    </tr>\n",
       "  </tbody>\n",
       "</table>\n",
       "<p>5 rows × 78 columns</p>\n",
       "</div>"
      ],
      "text/plain": [
       "       dept_Code  region_Code  edu_Code  gender_Code   ch_Code  training_bin  \\\n",
       "53295  -1.585299    -0.163034  1.577483     0.650947  1.154111     -0.213043   \n",
       "26002   0.808933    -0.163034 -0.681339     0.650947 -0.885239      4.431538   \n",
       "24083  -0.787222    -1.418043 -0.681339     0.650947 -0.885239     -0.213043   \n",
       "15734  -1.984338     1.776526 -0.681339     0.650947  1.154111     -0.213043   \n",
       "31060  -1.984338    -0.163034  1.577483     0.650947  1.154111     -0.213043   \n",
       "\n",
       "        age_bin  previous_year_rating  service_bin  KPIs_met >80%  ...  \\\n",
       "53295  0.104369             -0.113352    -0.331539      -0.736986  ...   \n",
       "26002  0.104369             -0.113352    -0.331539      -0.736986  ...   \n",
       "24083  0.104369              1.358824    -0.331539       1.356878  ...   \n",
       "15734  1.317053              1.358824    -0.331539      -0.736986  ...   \n",
       "31060 -1.108316              0.622736    -0.331539       1.356878  ...   \n",
       "\n",
       "       previous_year_rating_service_bin  previous_year_rating_KPIs_met >80%  \\\n",
       "53295                         -0.274005                           -0.673581   \n",
       "26002                         -0.274005                           -0.673581   \n",
       "24083                          0.732980                            1.904826   \n",
       "15734                          0.732980                           -0.673581   \n",
       "31060                          0.229488                            1.389145   \n",
       "\n",
       "       previous_year_rating_awards_won?  previous_year_rating_score_bin  \\\n",
       "53295                         -0.142379                       -0.453132   \n",
       "26002                         -0.142379                       -0.453132   \n",
       "24083                         -0.142379                        0.190836   \n",
       "15734                         -0.142379                        2.605717   \n",
       "31060                         -0.142379                        1.800757   \n",
       "\n",
       "       service_bin_KPIs_met >80%  service_bin_awards_won?  \\\n",
       "53295                  -0.695937                -0.150906   \n",
       "26002                  -0.695937                -0.150906   \n",
       "24083                   1.127077                -0.150906   \n",
       "15734                  -0.695937                -0.150906   \n",
       "31060                   1.127077                -0.150906   \n",
       "\n",
       "       service_bin_score_bin  KPIs_met >80%_awards_won?  \\\n",
       "53295              -0.577199                  -0.123927   \n",
       "26002              -0.577199                  -0.123927   \n",
       "24083              -0.577199                  -0.123927   \n",
       "15734               1.048032                  -0.123927   \n",
       "31060               1.048032                  -0.123927   \n",
       "\n",
       "       KPIs_met >80%_score_bin  awards_won?_score_bin  \n",
       "53295                -0.631881              -0.138077  \n",
       "26002                -0.631881              -0.138077  \n",
       "24083                 0.606507              -0.138077  \n",
       "15734                -0.631881              -0.138077  \n",
       "31060                 2.464090              -0.138077  \n",
       "\n",
       "[5 rows x 78 columns]"
      ]
     },
     "execution_count": 61,
     "metadata": {},
     "output_type": "execute_result"
    }
   ],
   "source": [
    "X_tr_under.drop('target',axis=1,inplace = True)\n",
    "X_tr_under.head()"
   ]
  },
  {
   "cell_type": "code",
   "execution_count": null,
   "metadata": {},
   "outputs": [],
   "source": []
  },
  {
   "cell_type": "code",
   "execution_count": null,
   "metadata": {},
   "outputs": [],
   "source": []
  },
  {
   "cell_type": "code",
   "execution_count": 87,
   "metadata": {
    "scrolled": true
   },
   "outputs": [
    {
     "name": "stderr",
     "output_type": "stream",
     "text": [
      "C:\\Users\\User\\Anaconda3\\lib\\site-packages\\sklearn\\linear_model\\logistic.py:432: FutureWarning: Default solver will be changed to 'lbfgs' in 0.22. Specify a solver to silence this warning.\n",
      "  FutureWarning)\n"
     ]
    }
   ],
   "source": [
    "#opt_c_l1 = LR_tune(X_tr_under,y_tr_under,'l1')\n",
    "opt_c_l1 = LR_tune(X_tr,y_tr,'l1')"
   ]
  },
  {
   "cell_type": "code",
   "execution_count": 88,
   "metadata": {
    "scrolled": true
   },
   "outputs": [
    {
     "name": "stderr",
     "output_type": "stream",
     "text": [
      "C:\\Users\\User\\Anaconda3\\lib\\site-packages\\sklearn\\linear_model\\logistic.py:432: FutureWarning: Default solver will be changed to 'lbfgs' in 0.22. Specify a solver to silence this warning.\n",
      "  FutureWarning)\n"
     ]
    }
   ],
   "source": [
    "#clf1 = LR_final(X_tr_under,y_tr_under,opt_c_l1,'l1')\n",
    "clf1 = LR_final(X_tr,y_tr,opt_c_l1,'l1')"
   ]
  },
  {
   "cell_type": "code",
   "execution_count": 89,
   "metadata": {},
   "outputs": [],
   "source": [
    "y_pred1 = clf1.predict(X_test)"
   ]
  },
  {
   "cell_type": "code",
   "execution_count": 90,
   "metadata": {},
   "outputs": [],
   "source": [
    "f1_score1 = f1_score(y_test,y_pred1)"
   ]
  },
  {
   "cell_type": "code",
   "execution_count": 91,
   "metadata": {},
   "outputs": [
    {
     "data": {
      "text/plain": [
       "0.1586475942782835"
      ]
     },
     "execution_count": 91,
     "metadata": {},
     "output_type": "execute_result"
    }
   ],
   "source": [
    "f1_score1"
   ]
  },
  {
   "cell_type": "code",
   "execution_count": null,
   "metadata": {},
   "outputs": [],
   "source": []
  },
  {
   "cell_type": "code",
   "execution_count": null,
   "metadata": {},
   "outputs": [],
   "source": []
  },
  {
   "cell_type": "code",
   "execution_count": 67,
   "metadata": {},
   "outputs": [
    {
     "name": "stderr",
     "output_type": "stream",
     "text": [
      "C:\\Users\\User\\Anaconda3\\lib\\site-packages\\sklearn\\linear_model\\logistic.py:432: FutureWarning: Default solver will be changed to 'lbfgs' in 0.22. Specify a solver to silence this warning.\n",
      "  FutureWarning)\n"
     ]
    }
   ],
   "source": [
    "opt_c_l2 = LR_tune(X_tr_under,y_tr_under,'l2')"
   ]
  },
  {
   "cell_type": "code",
   "execution_count": 68,
   "metadata": {},
   "outputs": [
    {
     "name": "stderr",
     "output_type": "stream",
     "text": [
      "C:\\Users\\User\\Anaconda3\\lib\\site-packages\\sklearn\\linear_model\\logistic.py:432: FutureWarning: Default solver will be changed to 'lbfgs' in 0.22. Specify a solver to silence this warning.\n",
      "  FutureWarning)\n"
     ]
    }
   ],
   "source": [
    "clf2 = LR_final(X_tr_under,y_tr_under,opt_c_l2,'l2')"
   ]
  },
  {
   "cell_type": "code",
   "execution_count": 69,
   "metadata": {},
   "outputs": [],
   "source": [
    "y_pred2 = clf2.predict(X_test)"
   ]
  },
  {
   "cell_type": "code",
   "execution_count": 70,
   "metadata": {},
   "outputs": [],
   "source": [
    "f1_score2 = f1_score(y_test,y_pred2)"
   ]
  },
  {
   "cell_type": "code",
   "execution_count": 71,
   "metadata": {},
   "outputs": [
    {
     "data": {
      "text/plain": [
       "array([[9830, 5228],\n",
       "       [ 250, 1135]], dtype=int64)"
      ]
     },
     "execution_count": 71,
     "metadata": {},
     "output_type": "execute_result"
    }
   ],
   "source": [
    "#in binary classification, the count of TN is (0,0), FN is(1,0) , TP is (1,1)  and false positives is (0,1)\n",
    "confusion_matrix(y_test,y_pred2)"
   ]
  },
  {
   "cell_type": "code",
   "execution_count": 72,
   "metadata": {},
   "outputs": [
    {
     "data": {
      "text/plain": [
       "0.2929788332472896"
      ]
     },
     "execution_count": 72,
     "metadata": {},
     "output_type": "execute_result"
    }
   ],
   "source": [
    "f1_score2"
   ]
  },
  {
   "cell_type": "code",
   "execution_count": null,
   "metadata": {},
   "outputs": [],
   "source": []
  },
  {
   "cell_type": "code",
   "execution_count": null,
   "metadata": {},
   "outputs": [],
   "source": []
  },
  {
   "cell_type": "code",
   "execution_count": 73,
   "metadata": {},
   "outputs": [
    {
     "name": "stderr",
     "output_type": "stream",
     "text": [
      "C:\\Users\\User\\Anaconda3\\lib\\site-packages\\sklearn\\svm\\base.py:193: FutureWarning: The default value of gamma will change from 'auto' to 'scale' in version 0.22 to account better for unscaled features. Set gamma explicitly to 'auto' or 'scale' to avoid this warning.\n",
      "  \"avoid this warning.\", FutureWarning)\n"
     ]
    }
   ],
   "source": [
    "opt_h = rbfsvm_tune(X_tr_under,y_tr_under)"
   ]
  },
  {
   "cell_type": "code",
   "execution_count": 74,
   "metadata": {},
   "outputs": [
    {
     "name": "stderr",
     "output_type": "stream",
     "text": [
      "C:\\Users\\User\\Anaconda3\\lib\\site-packages\\sklearn\\svm\\base.py:193: FutureWarning: The default value of gamma will change from 'auto' to 'scale' in version 0.22 to account better for unscaled features. Set gamma explicitly to 'auto' or 'scale' to avoid this warning.\n",
      "  \"avoid this warning.\", FutureWarning)\n"
     ]
    }
   ],
   "source": [
    "clf3 = rbfsvm_final(X_tr_under,y_tr_under,opt_h)"
   ]
  },
  {
   "cell_type": "code",
   "execution_count": 75,
   "metadata": {},
   "outputs": [],
   "source": [
    "y_pred3 = clf3.predict(X_test)"
   ]
  },
  {
   "cell_type": "code",
   "execution_count": 76,
   "metadata": {},
   "outputs": [],
   "source": [
    "f1_score3 = f1_score(y_test,y_pred3)"
   ]
  },
  {
   "cell_type": "code",
   "execution_count": 77,
   "metadata": {},
   "outputs": [
    {
     "data": {
      "text/plain": [
       "0.2981334697008438"
      ]
     },
     "execution_count": 77,
     "metadata": {},
     "output_type": "execute_result"
    }
   ],
   "source": [
    "f1_score3"
   ]
  },
  {
   "cell_type": "code",
   "execution_count": null,
   "metadata": {},
   "outputs": [],
   "source": []
  },
  {
   "cell_type": "code",
   "execution_count": null,
   "metadata": {},
   "outputs": [],
   "source": []
  },
  {
   "cell_type": "code",
   "execution_count": 78,
   "metadata": {},
   "outputs": [],
   "source": [
    "opt_h, opt_split = dt_tune(X_tr_under,y_tr_under)"
   ]
  },
  {
   "cell_type": "code",
   "execution_count": 79,
   "metadata": {},
   "outputs": [],
   "source": [
    "clf4 = dt_final(X_tr_under,y_tr_under,opt_h,opt_split)"
   ]
  },
  {
   "cell_type": "code",
   "execution_count": 80,
   "metadata": {},
   "outputs": [],
   "source": [
    "y_pred4 = clf4.predict(X_test)"
   ]
  },
  {
   "cell_type": "code",
   "execution_count": 81,
   "metadata": {},
   "outputs": [],
   "source": [
    "f1_score4 = f1_score(y_test,y_pred4)"
   ]
  },
  {
   "cell_type": "code",
   "execution_count": 82,
   "metadata": {},
   "outputs": [
    {
     "data": {
      "text/plain": [
       "0.3060344827586207"
      ]
     },
     "execution_count": 82,
     "metadata": {},
     "output_type": "execute_result"
    }
   ],
   "source": [
    "f1_score4"
   ]
  },
  {
   "cell_type": "code",
   "execution_count": null,
   "metadata": {},
   "outputs": [],
   "source": []
  },
  {
   "cell_type": "code",
   "execution_count": null,
   "metadata": {},
   "outputs": [],
   "source": []
  },
  {
   "cell_type": "code",
   "execution_count": 103,
   "metadata": {},
   "outputs": [],
   "source": [
    "opt_h, opt_est = rf_tune(X_tr_under,y_tr_under)"
   ]
  },
  {
   "cell_type": "code",
   "execution_count": 92,
   "metadata": {},
   "outputs": [],
   "source": [
    "clf5 = rf_final(X_tr_under,y_tr_under,opt_h,opt_est)"
   ]
  },
  {
   "cell_type": "code",
   "execution_count": 93,
   "metadata": {},
   "outputs": [],
   "source": [
    "y_pred5 = clf5.predict(X_test)"
   ]
  },
  {
   "cell_type": "code",
   "execution_count": 94,
   "metadata": {},
   "outputs": [],
   "source": [
    "f1_score5 = f1_score(y_test,y_pred5)"
   ]
  },
  {
   "cell_type": "code",
   "execution_count": 95,
   "metadata": {},
   "outputs": [
    {
     "data": {
      "text/plain": [
       "0.32116980634962455"
      ]
     },
     "execution_count": 95,
     "metadata": {},
     "output_type": "execute_result"
    }
   ],
   "source": [
    "f1_score5"
   ]
  },
  {
   "cell_type": "code",
   "execution_count": null,
   "metadata": {},
   "outputs": [],
   "source": []
  },
  {
   "cell_type": "code",
   "execution_count": null,
   "metadata": {},
   "outputs": [],
   "source": []
  },
  {
   "cell_type": "code",
   "execution_count": null,
   "metadata": {},
   "outputs": [
    {
     "name": "stderr",
     "output_type": "stream",
     "text": [
      "C:\\Users\\User\\Anaconda3\\lib\\site-packages\\joblib\\externals\\loky\\process_executor.py:706: UserWarning: A worker stopped while some jobs were given to the executor. This can be caused by a too short worker timeout or by a memory leak.\n",
      "  \"timeout or by a memory leak.\", UserWarning\n"
     ]
    }
   ],
   "source": [
    "#opt_h, opt_est = xg_tune(X_tr_under,y_tr_under)\n",
    "opt_h, opt_est = xg_tune(X_tr,y_tr)"
   ]
  },
  {
   "cell_type": "code",
   "execution_count": 109,
   "metadata": {},
   "outputs": [],
   "source": [
    "#clf6 = xg_final(X_tr_under,y_tr_under,opt_h,opt_est)\n",
    "clf6 = xg_final(X_tr,y_tr,opt_h,opt_est)"
   ]
  },
  {
   "cell_type": "code",
   "execution_count": 110,
   "metadata": {},
   "outputs": [],
   "source": [
    "y_pred6 = clf6.predict(X_test)"
   ]
  },
  {
   "cell_type": "code",
   "execution_count": 111,
   "metadata": {},
   "outputs": [],
   "source": [
    "f1_score6 = f1_score(y_test,y_pred6)"
   ]
  },
  {
   "cell_type": "code",
   "execution_count": 112,
   "metadata": {},
   "outputs": [
    {
     "data": {
      "text/plain": [
       "0.35023568061705473"
      ]
     },
     "execution_count": 112,
     "metadata": {},
     "output_type": "execute_result"
    }
   ],
   "source": [
    "f1_score6"
   ]
  },
  {
   "cell_type": "code",
   "execution_count": null,
   "metadata": {},
   "outputs": [],
   "source": []
  },
  {
   "cell_type": "code",
   "execution_count": null,
   "metadata": {},
   "outputs": [],
   "source": []
  },
  {
   "cell_type": "code",
   "execution_count": null,
   "metadata": {},
   "outputs": [],
   "source": []
  },
  {
   "cell_type": "code",
   "execution_count": null,
   "metadata": {},
   "outputs": [],
   "source": []
  },
  {
   "cell_type": "code",
   "execution_count": null,
   "metadata": {},
   "outputs": [],
   "source": []
  },
  {
   "cell_type": "code",
   "execution_count": 40,
   "metadata": {},
   "outputs": [],
   "source": [
    "test_data  = pd.read_csv(\"test.csv\")"
   ]
  },
  {
   "cell_type": "code",
   "execution_count": 41,
   "metadata": {},
   "outputs": [
    {
     "data": {
      "text/html": [
       "<div>\n",
       "<style scoped>\n",
       "    .dataframe tbody tr th:only-of-type {\n",
       "        vertical-align: middle;\n",
       "    }\n",
       "\n",
       "    .dataframe tbody tr th {\n",
       "        vertical-align: top;\n",
       "    }\n",
       "\n",
       "    .dataframe thead th {\n",
       "        text-align: right;\n",
       "    }\n",
       "</style>\n",
       "<table border=\"1\" class=\"dataframe\">\n",
       "  <thead>\n",
       "    <tr style=\"text-align: right;\">\n",
       "      <th></th>\n",
       "      <th>employee_id</th>\n",
       "      <th>department</th>\n",
       "      <th>region</th>\n",
       "      <th>education</th>\n",
       "      <th>gender</th>\n",
       "      <th>recruitment_channel</th>\n",
       "      <th>no_of_trainings</th>\n",
       "      <th>age</th>\n",
       "      <th>previous_year_rating</th>\n",
       "      <th>length_of_service</th>\n",
       "      <th>KPIs_met &gt;80%</th>\n",
       "      <th>awards_won?</th>\n",
       "      <th>avg_training_score</th>\n",
       "    </tr>\n",
       "  </thead>\n",
       "  <tbody>\n",
       "    <tr>\n",
       "      <th>0</th>\n",
       "      <td>8724</td>\n",
       "      <td>Technology</td>\n",
       "      <td>region_26</td>\n",
       "      <td>Bachelor's</td>\n",
       "      <td>m</td>\n",
       "      <td>sourcing</td>\n",
       "      <td>1</td>\n",
       "      <td>24</td>\n",
       "      <td>NaN</td>\n",
       "      <td>1</td>\n",
       "      <td>1</td>\n",
       "      <td>0</td>\n",
       "      <td>77</td>\n",
       "    </tr>\n",
       "    <tr>\n",
       "      <th>1</th>\n",
       "      <td>74430</td>\n",
       "      <td>HR</td>\n",
       "      <td>region_4</td>\n",
       "      <td>Bachelor's</td>\n",
       "      <td>f</td>\n",
       "      <td>other</td>\n",
       "      <td>1</td>\n",
       "      <td>31</td>\n",
       "      <td>3.0</td>\n",
       "      <td>5</td>\n",
       "      <td>0</td>\n",
       "      <td>0</td>\n",
       "      <td>51</td>\n",
       "    </tr>\n",
       "    <tr>\n",
       "      <th>2</th>\n",
       "      <td>72255</td>\n",
       "      <td>Sales &amp; Marketing</td>\n",
       "      <td>region_13</td>\n",
       "      <td>Bachelor's</td>\n",
       "      <td>m</td>\n",
       "      <td>other</td>\n",
       "      <td>1</td>\n",
       "      <td>31</td>\n",
       "      <td>1.0</td>\n",
       "      <td>4</td>\n",
       "      <td>0</td>\n",
       "      <td>0</td>\n",
       "      <td>47</td>\n",
       "    </tr>\n",
       "    <tr>\n",
       "      <th>3</th>\n",
       "      <td>38562</td>\n",
       "      <td>Procurement</td>\n",
       "      <td>region_2</td>\n",
       "      <td>Bachelor's</td>\n",
       "      <td>f</td>\n",
       "      <td>other</td>\n",
       "      <td>3</td>\n",
       "      <td>31</td>\n",
       "      <td>2.0</td>\n",
       "      <td>9</td>\n",
       "      <td>0</td>\n",
       "      <td>0</td>\n",
       "      <td>65</td>\n",
       "    </tr>\n",
       "    <tr>\n",
       "      <th>4</th>\n",
       "      <td>64486</td>\n",
       "      <td>Finance</td>\n",
       "      <td>region_29</td>\n",
       "      <td>Bachelor's</td>\n",
       "      <td>m</td>\n",
       "      <td>sourcing</td>\n",
       "      <td>1</td>\n",
       "      <td>30</td>\n",
       "      <td>4.0</td>\n",
       "      <td>7</td>\n",
       "      <td>0</td>\n",
       "      <td>0</td>\n",
       "      <td>61</td>\n",
       "    </tr>\n",
       "  </tbody>\n",
       "</table>\n",
       "</div>"
      ],
      "text/plain": [
       "   employee_id         department     region   education gender  \\\n",
       "0         8724         Technology  region_26  Bachelor's      m   \n",
       "1        74430                 HR   region_4  Bachelor's      f   \n",
       "2        72255  Sales & Marketing  region_13  Bachelor's      m   \n",
       "3        38562        Procurement   region_2  Bachelor's      f   \n",
       "4        64486            Finance  region_29  Bachelor's      m   \n",
       "\n",
       "  recruitment_channel  no_of_trainings  age  previous_year_rating  \\\n",
       "0            sourcing                1   24                   NaN   \n",
       "1               other                1   31                   3.0   \n",
       "2               other                1   31                   1.0   \n",
       "3               other                3   31                   2.0   \n",
       "4            sourcing                1   30                   4.0   \n",
       "\n",
       "   length_of_service  KPIs_met >80%  awards_won?  avg_training_score  \n",
       "0                  1              1            0                  77  \n",
       "1                  5              0            0                  51  \n",
       "2                  4              0            0                  47  \n",
       "3                  9              0            0                  65  \n",
       "4                  7              0            0                  61  "
      ]
     },
     "execution_count": 41,
     "metadata": {},
     "output_type": "execute_result"
    }
   ],
   "source": [
    "test_data.head()"
   ]
  },
  {
   "cell_type": "code",
   "execution_count": 42,
   "metadata": {},
   "outputs": [
    {
     "data": {
      "text/plain": [
       "employee_id                0\n",
       "department                 0\n",
       "region                     0\n",
       "education               1034\n",
       "gender                     0\n",
       "recruitment_channel        0\n",
       "no_of_trainings            0\n",
       "age                        0\n",
       "previous_year_rating    1812\n",
       "length_of_service          0\n",
       "KPIs_met >80%              0\n",
       "awards_won?                0\n",
       "avg_training_score         0\n",
       "dtype: int64"
      ]
     },
     "execution_count": 42,
     "metadata": {},
     "output_type": "execute_result"
    }
   ],
   "source": [
    "test_data.isnull().sum()"
   ]
  },
  {
   "cell_type": "code",
   "execution_count": 43,
   "metadata": {},
   "outputs": [
    {
     "data": {
      "text/plain": [
       "employee_id             0\n",
       "department              0\n",
       "region                  0\n",
       "education               0\n",
       "gender                  0\n",
       "recruitment_channel     0\n",
       "no_of_trainings         0\n",
       "age                     0\n",
       "previous_year_rating    0\n",
       "length_of_service       0\n",
       "KPIs_met >80%           0\n",
       "awards_won?             0\n",
       "avg_training_score      0\n",
       "dtype: int64"
      ]
     },
     "execution_count": 43,
     "metadata": {},
     "output_type": "execute_result"
    }
   ],
   "source": [
    "test_data['previous_year_rating'].fillna(0,inplace =True)\n",
    "test_data['education'].fillna('Below Secondary',inplace =True)\n",
    "test_data['education'] = test_data['education'].map({\"Master's & above\":3,\"Bachelor's\":2,'Below Secondary':1})\n",
    "test_data.isnull().sum()"
   ]
  },
  {
   "cell_type": "code",
   "execution_count": 44,
   "metadata": {},
   "outputs": [],
   "source": [
    "X_check = test_data[['education','no_of_trainings','age','previous_year_rating','length_of_service','KPIs_met >80%','awards_won?','avg_training_score']]\n",
    "#X_check = test_data[['education','previous_year_rating','length_of_service','KPIs_met >80%','avg_training_score']]"
   ]
  },
  {
   "cell_type": "code",
   "execution_count": 45,
   "metadata": {},
   "outputs": [],
   "source": [
    "y_pred3 = clf2.predict(X_check)"
   ]
  },
  {
   "cell_type": "code",
   "execution_count": 48,
   "metadata": {},
   "outputs": [],
   "source": [
    "d = {'employee_id': test_data['employee_id'], 'is_promoted': y_pred3}\n",
    "upload = pd.DataFrame(d)"
   ]
  },
  {
   "cell_type": "code",
   "execution_count": 49,
   "metadata": {},
   "outputs": [],
   "source": [
    "upload.to_csv(\"upload.csv\",index=False)"
   ]
  },
  {
   "cell_type": "code",
   "execution_count": null,
   "metadata": {},
   "outputs": [],
   "source": []
  },
  {
   "cell_type": "code",
   "execution_count": null,
   "metadata": {},
   "outputs": [],
   "source": []
  },
  {
   "cell_type": "code",
   "execution_count": null,
   "metadata": {
    "scrolled": true
   },
   "outputs": [],
   "source": []
  },
  {
   "cell_type": "code",
   "execution_count": null,
   "metadata": {
    "scrolled": true
   },
   "outputs": [],
   "source": []
  },
  {
   "cell_type": "code",
   "execution_count": 106,
   "metadata": {},
   "outputs": [],
   "source": []
  },
  {
   "cell_type": "code",
   "execution_count": 107,
   "metadata": {},
   "outputs": [],
   "source": []
  },
  {
   "cell_type": "code",
   "execution_count": null,
   "metadata": {},
   "outputs": [],
   "source": []
  },
  {
   "cell_type": "code",
   "execution_count": null,
   "metadata": {},
   "outputs": [],
   "source": []
  },
  {
   "cell_type": "code",
   "execution_count": null,
   "metadata": {},
   "outputs": [],
   "source": []
  },
  {
   "cell_type": "code",
   "execution_count": 109,
   "metadata": {},
   "outputs": [],
   "source": [
    "y_pred5 = clf3.predict(X_check)"
   ]
  },
  {
   "cell_type": "code",
   "execution_count": 110,
   "metadata": {},
   "outputs": [],
   "source": [
    "d = {'employee_id': test_data['employee_id'], 'is_promoted': y_pred5}\n",
    "upload = pd.DataFrame(d)"
   ]
  },
  {
   "cell_type": "code",
   "execution_count": 111,
   "metadata": {},
   "outputs": [],
   "source": [
    "upload.to_csv(\"upload.csv\",index=False)"
   ]
  },
  {
   "cell_type": "code",
   "execution_count": null,
   "metadata": {},
   "outputs": [],
   "source": []
  }
 ],
 "metadata": {
  "kernelspec": {
   "display_name": "Python 3",
   "language": "python",
   "name": "python3"
  },
  "language_info": {
   "codemirror_mode": {
    "name": "ipython",
    "version": 3
   },
   "file_extension": ".py",
   "mimetype": "text/x-python",
   "name": "python",
   "nbconvert_exporter": "python",
   "pygments_lexer": "ipython3",
   "version": "3.7.3"
  }
 },
 "nbformat": 4,
 "nbformat_minor": 2
}
